{
 "cells": [
  {
   "cell_type": "markdown",
   "metadata": {
    "id": "header"
   },
   "source": [
    "# Introdução ao Python para Álgebra Linear\n",
    "\n",
    "**Curso:** Álgebra Linear Aplicada  \n",
    "**Aula 1:** Introdução ao Python, NumPy e Conceitos de Vetores  \n",
    "**Livro de Referência:** Introduction to Applied Linear Algebra - Boyd & Vandenberghe\n",
    "\n",
    "---\n",
    "\n",
    "## Objetivos da Aula\n",
    "\n",
    "Ao final desta aula, você será capaz de:\n",
    "\n",
    "1. Navegar e utilizar o Google Colab\n",
    "2. Compreender os fundamentos da linguagem Python\n",
    "3. Utilizar a biblioteca NumPy para operações com vetores\n",
    "4. Implementar conceitos básicos de álgebra linear:\n",
    "   - Vetores e suas representações\n",
    "   - Operações com vetores (adição, multiplicação por escalar)\n",
    "   - Produto interno\n",
    "   - Norma de vetores\n",
    "5. Visualizar vetores usando Matplotlib\n",
    "6. Resolver exercícios práticos de álgebra linear\n",
    "\n",
    "---"
   ]
  },
  {
   "cell_type": "markdown",
   "metadata": {
    "id": "colab_intro"
   },
   "source": [
    "## 1. Introdução ao Google Colab\n",
    "\n",
    "### O que é o Google Colab?\n",
    "\n",
    "O Google Colaboratory (Colab) é um ambiente de notebook gratuito que roda na nuvem e permite escrever e executar código Python sem necessidade de instalação local.\n",
    "\n",
    "### Características principais:\n",
    "- **Gratuito** e baseado na nuvem\n",
    "- **Jupyter Notebooks** com acesso a GPU/TPU\n",
    "- **Bibliotecas pré-instaladas** (NumPy, Matplotlib, etc.)\n",
    "- **Colaboração em tempo real**\n",
    "- **Integração com Google Drive**\n",
    "\n",
    "### Tipos de células:\n",
    "- **Células de código**: Executam código Python\n",
    "- **Células de texto**: Formatação em Markdown\n",
    "\n",
    "### Atalhos úteis:\n",
    "- `Ctrl + Enter`: Executar célula\n",
    "- `Shift + Enter`: Executar célula e mover para a próxima\n",
    "- `Ctrl + M, A`: Inserir célula acima\n",
    "- `Ctrl + M, B`: Inserir célula abaixo\n",
    "- `Ctrl + M, D`: Deletar célula"
   ]
  },
  {
   "cell_type": "code",
   "execution_count": null,
   "metadata": {
    "id": "test_colab"
   },
   "outputs": [],
   "source": [
    "# Primeira célula de código - teste básico\n",
    "print(\"Bem-vindos ao Google Colab!\")\n",
    "print(\"Esta é nossa primeira célula de código.\")\n",
    "\n",
    "# Verificando a versão do Python\n",
    "import sys\n",
    "print(f\"Versão do Python: {sys.version}\")"
   ]
  },
  {
   "cell_type": "markdown",
   "metadata": {
    "id": "python_basics"
   },
   "source": [
    "## 2. Fundamentos do Python\n",
    "\n",
    "Antes de trabalharmos com álgebra linear, vamos revisar os conceitos básicos do Python que utilizaremos."
   ]
  },
  {
   "cell_type": "markdown",
   "metadata": {
    "id": "data_types"
   },
   "source": [
    "### 2.1 Tipos de Dados Básicos"
   ]
  },
  {
   "cell_type": "code",
   "execution_count": null,
   "metadata": {
    "id": "basic_types"
   },
   "outputs": [],
   "source": [
    "# Números inteiros\n",
    "a = 5\n",
    "print(f\"a = {a}, tipo: {type(a)}\")\n",
    "\n",
    "# Números decimais (float)\n",
    "b = 3.14\n",
    "print(f\"b = {b}, tipo: {type(b)}\")\n",
    "\n",
    "# Strings (texto)\n",
    "c = \"Álgebra Linear\"\n",
    "print(f\"c = {c}, tipo: {type(c)}\")\n",
    "\n",
    "# Booleanos\n",
    "d = True\n",
    "print(f\"d = {d}, tipo: {type(d)}\")"
   ]
  },
  {
   "cell_type": "code",
   "execution_count": null,
   "metadata": {
    "id": "lists"
   },
   "outputs": [],
   "source": [
    "# Listas - estrutura fundamental para vetores\n",
    "vetor_lista = [1, 2, 3, 4, 5]\n",
    "print(f\"Lista: {vetor_lista}\")\n",
    "print(f\"Primeiro elemento: {vetor_lista[0]}\")\n",
    "print(f\"Último elemento: {vetor_lista[-1]}\")\n",
    "print(f\"Tamanho da lista: {len(vetor_lista)}\")\n",
    "\n",
    "# Operações com listas\n",
    "lista1 = [1, 2, 3]\n",
    "lista2 = [4, 5, 6]\n",
    "lista_concatenada = lista1 + lista2\n",
    "print(f\"Concatenação: {lista_concatenada}\")"
   ]
  },
  {
   "cell_type": "markdown",
   "metadata": {
    "id": "control_structures"
   },
   "source": [
    "### 2.2 Estruturas de Controle"
   ]
  },
  {
   "cell_type": "code",
   "execution_count": null,
   "metadata": {
    "id": "conditionals"
   },
   "outputs": [],
   "source": [
    "# Condicionais\n",
    "x = 10\n",
    "\n",
    "if x > 0:\n",
    "    print(f\"{x} é positivo\")\n",
    "elif x < 0:\n",
    "    print(f\"{x} é negativo\")\n",
    "else:\n",
    "    print(f\"{x} é zero\")\n",
    "\n",
    "# Exemplo com vetores\n",
    "vetor = [1, -2, 3, -4, 5]\n",
    "positivos = 0\n",
    "negativos = 0\n",
    "\n",
    "for elemento in vetor:\n",
    "    if elemento > 0:\n",
    "        positivos += 1\n",
    "    else:\n",
    "        negativos += 1\n",
    "\n",
    "print(f\"Elementos positivos: {positivos}\")\n",
    "print(f\"Elementos negativos: {negativos}\")"
   ]
  },
  {
   "cell_type": "code",
   "execution_count": null,
   "metadata": {
    "id": "loops"
   },
   "outputs": [],
   "source": [
    "# Loop for\n",
    "print(\"Elementos do vetor:\")\n",
    "vetor = [2, 4, 6, 8, 10]\n",
    "for i, elemento in enumerate(vetor):\n",
    "    print(f\"Posição {i}: {elemento}\")\n",
    "\n",
    "# Loop while\n",
    "print(\"\\nContagem regressiva:\")\n",
    "contador = 5\n",
    "while contador > 0:\n",
    "    print(contador)\n",
    "    contador -= 1\n",
    "print(\"Fim!\")"
   ]
  },
  {
   "cell_type": "code",
   "execution_count": null,
   "metadata": {
    "id": "list_comprehensions"
   },
   "outputs": [],
   "source": [
    "# List comprehensions - forma elegante de criar listas\n",
    "numeros = [1, 2, 3, 4, 5]\n",
    "\n",
    "# Quadrados dos números\n",
    "quadrados = [x**2 for x in numeros]\n",
    "print(f\"Quadrados: {quadrados}\")\n",
    "\n",
    "# Apenas números pares\n",
    "pares = [x for x in numeros if x % 2 == 0]\n",
    "print(f\"Números pares: {pares}\")\n",
    "\n",
    "# Multiplicar por 2\n",
    "dobrados = [2*x for x in numeros]\n",
    "print(f\"Dobrados: {dobrados}\")"
   ]
  },
  {
   "cell_type": "markdown",
   "metadata": {
    "id": "functions"
   },
   "source": [
    "### 2.3 Funções"
   ]
  },
  {
   "cell_type": "code",
   "execution_count": null,
   "metadata": {
    "id": "function_examples"
   },
   "outputs": [],
   "source": [
    "# Definindo funções\n",
    "def saudacao(nome):\n",
    "    \"\"\"Função que retorna uma saudação personalizada\"\"\"\n",
    "    return f\"Olá, {nome}! Bem-vindo à aula de álgebra linear.\"\n",
    "\n",
    "# Função para calcular a soma dos elementos de uma lista\n",
    "def soma_elementos(lista):\n",
    "    \"\"\"Calcula a soma de todos os elementos de uma lista\"\"\"\n",
    "    total = 0\n",
    "    for elemento in lista:\n",
    "        total += elemento\n",
    "    return total\n",
    "\n",
    "# Função para multiplicar lista por escalar\n",
    "def multiplicar_por_escalar(lista, escalar):\n",
    "    \"\"\"Multiplica todos os elementos de uma lista por um escalar\"\"\"\n",
    "    return [escalar * elemento for elemento in lista]\n",
    "\n",
    "# Testando as funções\n",
    "print(saudacao(\"Estudante\"))\n",
    "\n",
    "meu_vetor = [1, 2, 3, 4, 5]\n",
    "print(f\"Vetor: {meu_vetor}\")\n",
    "print(f\"Soma dos elementos: {soma_elementos(meu_vetor)}\")\n",
    "print(f\"Multiplicado por 3: {multiplicar_por_escalar(meu_vetor, 3)}\")"
   ]
  },
  {
   "cell_type": "markdown",
   "metadata": {
    "id": "numpy_intro"
   },
   "source": [
    "## 3. Introdução ao NumPy\n",
    "\n",
    "NumPy (Numerical Python) é a biblioteca fundamental para computação científica em Python. É especialmente importante para álgebra linear."
   ]
  },
  {
   "cell_type": "markdown",
   "metadata": {
    "id": "why_numpy"
   },
   "source": [
    "### 3.1 Por que usar NumPy?\n",
    "\n",
    "**Vantagens do NumPy sobre listas Python:**\n",
    "- **Performance**: Operações muito mais rápidas\n",
    "- **Memória**: Uso mais eficiente de memória\n",
    "- **Funcionalidade**: Operações matemáticas avançadas\n",
    "- **Broadcasting**: Operações entre arrays de diferentes tamanhos\n",
    "- **Integração**: Base para outras bibliotecas científicas"
   ]
  },
  {
   "cell_type": "code",
   "execution_count": null,
   "metadata": {
    "id": "import_numpy"
   },
   "outputs": [],
   "source": [
    "# Importando NumPy (convenção: usar 'np' como alias)\n",
    "import numpy as np\n",
    "\n",
    "# Verificando a versão\n",
    "print(f\"Versão do NumPy: {np.__version__}\")\n",
    "\n",
    "# Comparação: lista Python vs array NumPy\n",
    "lista_python = [1, 2, 3, 4, 5]\n",
    "array_numpy = np.array([1, 2, 3, 4, 5])\n",
    "\n",
    "print(f\"Lista Python: {lista_python}, tipo: {type(lista_python)}\")\n",
    "print(f\"Array NumPy: {array_numpy}, tipo: {type(array_numpy)}\")\n",
    "print(f\"Tipo dos elementos: {array_numpy.dtype}\")"
   ]
  },
  {
   "cell_type": "markdown",
   "metadata": {
    "id": "creating_arrays"
   },
   "source": [
    "### 3.2 Criando Arrays NumPy"
   ]
  },
  {
   "cell_type": "code",
   "execution_count": null,
   "metadata": {
    "id": "array_creation"
   },
   "outputs": [],
   "source": [
    "# Diferentes formas de criar arrays\n",
    "\n",
    "# 1. A partir de listas\n",
    "vetor1 = np.array([1, 2, 3, 4, 5])\n",
    "print(f\"Vetor 1: {vetor1}\")\n",
    "\n",
    "# 2. Array de zeros\n",
    "zeros = np.zeros(5)\n",
    "print(f\"Zeros: {zeros}\")\n",
    "\n",
    "# 3. Array de uns\n",
    "ones = np.ones(4)\n",
    "print(f\"Uns: {ones}\")\n",
    "\n",
    "# 4. Sequência com arange\n",
    "sequencia = np.arange(0, 10, 2)  # início, fim, passo\n",
    "print(f\"Sequência: {sequencia}\")\n",
    "\n",
    "# 5. Espaçamento linear\n",
    "linear = np.linspace(0, 1, 6)  # início, fim, número de pontos\n",
    "print(f\"Linear: {linear}\")\n",
    "\n",
    "# 6. Array com valor constante\n",
    "constante = np.full(5, 7)  # tamanho, valor\n",
    "print(f\"Constante: {constante}\")"
   ]
  },
  {
   "cell_type": "code",
   "execution_count": null,
   "metadata": {
    "id": "random_arrays"
   },
   "outputs": [],
   "source": [
    "# Arrays aleatórios\n",
    "np.random.seed(42)  # Para reprodutibilidade\n",
    "\n",
    "# Números aleatórios entre 0 e 1\n",
    "aleatorio = np.random.random(5)\n",
    "print(f\"Aleatório [0,1]: {aleatorio}\")\n",
    "\n",
    "# Números inteiros aleatórios\n",
    "inteiros_aleatorios = np.random.randint(1, 10, 5)  # min, max, tamanho\n",
    "print(f\"Inteiros aleatórios: {inteiros_aleatorios}\")\n",
    "\n",
    "# Distribuição normal\n",
    "normal = np.random.normal(0, 1, 5)  # média, desvio, tamanho\n",
    "print(f\"Distribuição normal: {normal}\")"
   ]
  },
  {
   "cell_type": "markdown",
   "metadata": {
    "id": "array_operations"
   },
   "source": [
    "### 3.3 Operações Básicas com Arrays"
   ]
  },
  {
   "cell_type": "code",
   "execution_count": null,
   "metadata": {
    "id": "indexing_slicing"
   },
   "outputs": [],
   "source": [
    "# Indexação e slicing\n",
    "vetor = np.array([10, 20, 30, 40, 50])\n",
    "print(f\"Vetor: {vetor}\")\n",
    "\n",
    "# Indexação (começa em 0)\n",
    "print(f\"Primeiro elemento: {vetor[0]}\")\n",
    "print(f\"Último elemento: {vetor[-1]}\")\n",
    "print(f\"Terceiro elemento: {vetor[2]}\")\n",
    "\n",
    "# Slicing\n",
    "print(f\"Primeiros 3 elementos: {vetor[:3]}\")\n",
    "print(f\"Últimos 2 elementos: {vetor[-2:]}\")\n",
    "print(f\"Elementos do índice 1 ao 3: {vetor[1:4]}\")\n",
    "\n",
    "# Propriedades do array\n",
    "print(f\"\\nPropriedades do vetor:\")\n",
    "print(f\"Tamanho: {vetor.size}\")\n",
    "print(f\"Forma: {vetor.shape}\")\n",
    "print(f\"Dimensões: {vetor.ndim}\")\n",
    "print(f\"Tipo dos dados: {vetor.dtype}\")"
   ]
  },
  {
   "cell_type": "code",
   "execution_count": null,
   "metadata": {
    "id": "element_wise_operations"
   },
   "outputs": [],
   "source": [
    "# Operações elemento a elemento\n",
    "a = np.array([1, 2, 3, 4, 5])\n",
    "b = np.array([2, 3, 4, 5, 6])\n",
    "\n",
    "print(f\"a = {a}\")\n",
    "print(f\"b = {b}\")\n",
    "print()\n",
    "\n",
    "# Operações aritméticas\n",
    "print(f\"a + b = {a + b}\")\n",
    "print(f\"a - b = {a - b}\")\n",
    "print(f\"a * b = {a * b}\")\n",
    "print(f\"a / b = {a / b}\")\n",
    "print(f\"a ** 2 = {a ** 2}\")\n",
    "\n",
    "# Operações com escalares\n",
    "print(f\"\\nOperações com escalares:\")\n",
    "print(f\"a + 10 = {a + 10}\")\n",
    "print(f\"a * 3 = {a * 3}\")\n",
    "print(f\"a / 2 = {a / 2}\")"
   ]
  },
  {
   "cell_type": "code",
   "execution_count": null,
   "metadata": {
    "id": "broadcasting"
   },
   "outputs": [],
   "source": [
    "# Broadcasting - operações entre arrays de tamanhos diferentes\n",
    "vetor = np.array([1, 2, 3, 4])\n",
    "escalar = 5\n",
    "\n",
    "print(f\"Vetor: {vetor}\")\n",
    "print(f\"Escalar: {escalar}\")\n",
    "print(f\"Vetor + Escalar: {vetor + escalar}\")\n",
    "print(f\"Vetor * Escalar: {vetor * escalar}\")\n",
    "\n",
    "# Funções matemáticas\n",
    "print(f\"\\nFunções matemáticas:\")\n",
    "print(f\"Raiz quadrada: {np.sqrt(vetor)}\")\n",
    "print(f\"Exponencial: {np.exp(vetor)}\")\n",
    "print(f\"Seno: {np.sin(vetor)}\")\n",
    "print(f\"Logaritmo: {np.log(vetor)}\")"
   ]
  }
 ],
 "metadata": {
  "colab": {
   "provenance": []
  },
  "kernelspec": {
   "display_name": "Python 3",
   "name": "python3"
  },
  "language_info": {
   "name": "python"
  }
 },
 "nbformat": 4,
 "nbformat_minor": 0
}


,
  {
   "cell_type": "markdown",
   "metadata": {
    "id": "linear_algebra"
   },
   "source": [
    "## 4. Conceitos de Álgebra Linear com NumPy\n",
    "\n",
    "Agora vamos aplicar o que aprendemos sobre NumPy para implementar conceitos fundamentais de álgebra linear."
   ]
  },
  {
   "cell_type": "markdown",
   "metadata": {
    "id": "vectors_definition"
   },
   "source": [
    "### 4.1 Vetores\n",
    "\n",
    "**Definição matemática:** Um vetor é uma lista ordenada de números. Um vetor com $n$ elementos é chamado de $n$-vetor.\n",
    "\n",
    "**Notação:** $x = (x_1, x_2, \\ldots, x_n)$ ou $x = \\begin{pmatrix} x_1 \\\\ x_2 \\\\ \\vdots \\\\ x_n \\end{pmatrix}$\n",
    "\n",
    "**Em Python:** Representamos vetores como arrays NumPy unidimensionais."
   ]
  },
  {
   "cell_type": "code",
   "execution_count": null,
   "metadata": {
    "id": "vector_examples"
   },
   "outputs": [],
   "source": [
    "# Exemplos de vetores\n",
    "\n",
    "# Vetor de posição 2D (x, y)\n",
    "posicao = np.array([3, 4])\n",
    "print(f\"Posição: {posicao}\")\n",
    "\n",
    "# Vetor de velocidade 3D (vx, vy, vz)\n",
    "velocidade = np.array([10, -5, 2])\n",
    "print(f\"Velocidade: {velocidade}\")\n",
    "\n",
    "# Vetor de preços (exemplo do livro)\n",
    "precos = np.array([2.50, 1.80, 3.20, 0.90])  # preços de 4 produtos\n",
    "print(f\"Preços: {precos}\")\n",
    "\n",
    "# Vetor de temperaturas\n",
    "temperaturas = np.array([22.5, 25.1, 23.8, 21.9, 24.2, 26.0, 23.5])\n",
    "print(f\"Temperaturas da semana: {temperaturas}\")\n",
    "\n",
    "# Propriedades dos vetores\n",
    "print(f\"\\nPropriedades:\")\n",
    "print(f\"Posição - tamanho: {len(posicao)}, é um {len(posicao)}-vetor\")\n",
    "print(f\"Velocidade - tamanho: {len(velocidade)}, é um {len(velocidade)}-vetor\")\n",
    "print(f\"Preços - tamanho: {len(precos)}, é um {len(precos)}-vetor\")"
   ]
  },
  {
   "cell_type": "code",
   "execution_count": null,
   "metadata": {
    "id": "special_vectors"
   },
   "source": [
    "# Vetores especiais\n",
    "\n",
    "# Vetor zero\n",
    "zero_vector = np.zeros(4)\n",
    "print(f\"Vetor zero (4-vetor): {zero_vector}\")\n",
    "\n",
    "# Vetores unitários (unit vectors)\n",
    "e1 = np.array([1, 0, 0])  # primeiro vetor unitário em 3D\n",
    "e2 = np.array([0, 1, 0])  # segundo vetor unitário em 3D\n",
    "e3 = np.array([0, 0, 1])  # terceiro vetor unitário em 3D\n",
    "\n",
    "print(f\"e1 = {e1}\")\n",
    "print(f\"e2 = {e2}\")\n",
    "print(f\"e3 = {e3}\")\n",
    "\n",
    "# Vetor de uns\n",
    "ones_vector = np.ones(5)\n",
    "print(f\"Vetor de uns (5-vetor): {ones_vector}\")\n",
    "\n",
    "# Criando vetores unitários de qualquer tamanho\n",
    "def criar_vetor_unitario(n, i):\n",
    "    \"\"\"Cria o i-ésimo vetor unitário de tamanho n\"\"\"\n",
    "    e = np.zeros(n)\n",
    "    e[i-1] = 1  # i-1 porque Python usa indexação baseada em 0\n",
    "    return e\n",
    "\n",
    "# Testando a função\n",
    "e2_5d = criar_vetor_unitario(5, 2)\n",
    "print(f\"Segundo vetor unitário em 5D: {e2_5d}\")"
   ]
  },
  {
   "cell_type": "markdown",
   "metadata": {
    "id": "vector_operations"
   },
   "source": [
    "### 4.2 Operações com Vetores\n",
    "\n",
    "#### Adição de Vetores\n",
    "**Definição:** $(a + b)_i = a_i + b_i$ para $i = 1, 2, \\ldots, n$\n",
    "\n",
    "#### Multiplicação por Escalar\n",
    "**Definição:** $(\\alpha a)_i = \\alpha \\cdot a_i$ para $i = 1, 2, \\ldots, n$"
   ]
  },
  {
   "cell_type": "code",
   "execution_count": null,
   "metadata": {
    "id": "vector_addition"
   },
   "outputs": [],
   "source": [
    "# Adição de vetores\n",
    "a = np.array([1, 2, 3])\n",
    "b = np.array([4, 5, 6])\n",
    "\n",
    "print(f\"a = {a}\")\n",
    "print(f\"b = {b}\")\n",
    "print(f\"a + b = {a + b}\")\n",
    "\n",
    "# Subtração de vetores\n",
    "print(f\"a - b = {a - b}\")\n",
    "print(f\"b - a = {b - a}\")\n",
    "\n",
    "# Propriedades da adição\n",
    "c = np.array([7, 8, 9])\n",
    "print(f\"\\nPropriedades da adição:\")\n",
    "print(f\"c = {c}\")\n",
    "\n",
    "# Comutatividade: a + b = b + a\n",
    "print(f\"a + b = {a + b}\")\n",
    "print(f\"b + a = {b + a}\")\n",
    "print(f\"Comutatividade: {np.array_equal(a + b, b + a)}\")\n",
    "\n",
    "# Associatividade: (a + b) + c = a + (b + c)\n",
    "print(f\"(a + b) + c = {(a + b) + c}\")\n",
    "print(f\"a + (b + c) = {a + (b + c)}\")\n",
    "print(f\"Associatividade: {np.array_equal((a + b) + c, a + (b + c))}\")"
   ]
  },
  {
   "cell_type": "code",
   "execution_count": null,
   "metadata": {
    "id": "scalar_multiplication"
   },
   "outputs": [],
   "source": [
    "# Multiplicação por escalar\n",
    "v = np.array([2, -3, 1, 4])\n",
    "alpha = 2.5\n",
    "\n",
    "print(f\"v = {v}\")\n",
    "print(f\"α = {alpha}\")\n",
    "print(f\"α * v = {alpha * v}\")\n",
    "\n",
    "# Diferentes escalares\n",
    "print(f\"\\nDiferentes escalares:\")\n",
    "print(f\"2 * v = {2 * v}\")\n",
    "print(f\"-1 * v = {-1 * v}\")\n",
    "print(f\"0.5 * v = {0.5 * v}\")\n",
    "print(f\"0 * v = {0 * v}\")\n",
    "\n",
    "# Propriedades da multiplicação por escalar\n",
    "beta = 3\n",
    "print(f\"\\nPropriedades (β = {beta}):\")\n",
    "\n",
    "# Associatividade: α(βv) = (αβ)v\n",
    "prop1_esq = alpha * (beta * v)\n",
    "prop1_dir = (alpha * beta) * v\n",
    "print(f\"α(βv) = {prop1_esq}\")\n",
    "print(f\"(αβ)v = {prop1_dir}\")\n",
    "print(f\"Associatividade: {np.allclose(prop1_esq, prop1_dir)}\")\n",
    "\n",
    "# Distributividade: α(v + w) = αv + αw\n",
    "w = np.array([1, 1, -2, 3])\n",
    "prop2_esq = alpha * (v + w)\n",
    "prop2_dir = alpha * v + alpha * w\n",
    "print(f\"\\nw = {w}\")\n",
    "print(f\"α(v + w) = {prop2_esq}\")\n",
    "print(f\"αv + αw = {prop2_dir}\")\n",
    "print(f\"Distributividade: {np.allclose(prop2_esq, prop2_dir)}\")"
   ]
  },
  {
   "cell_type": "code",
   "execution_count": null,
   "metadata": {
    "id": "linear_combinations"
   },
   "outputs": [],
   "source": [
    "# Combinações lineares\n",
    "# Uma combinação linear de vetores a1, a2, ..., ak é:\n",
    "# β1*a1 + β2*a2 + ... + βk*ak\n",
    "\n",
    "# Exemplo: combinação linear de 3 vetores\n",
    "a1 = np.array([1, 0, -1])\n",
    "a2 = np.array([0, 1, 2])\n",
    "a3 = np.array([2, -1, 0])\n",
    "\n",
    "# Coeficientes\n",
    "beta1, beta2, beta3 = 2, -1, 0.5\n",
    "\n",
    "print(f\"a1 = {a1}\")\n",
    "print(f\"a2 = {a2}\")\n",
    "print(f\"a3 = {a3}\")\n",
    "print(f\"\\nCoeficientes: β1={beta1}, β2={beta2}, β3={beta3}\")\n",
    "\n",
    "# Calculando a combinação linear\n",
    "combinacao = beta1 * a1 + beta2 * a2 + beta3 * a3\n",
    "print(f\"\\nCombinação linear:\")\n",
    "print(f\"{beta1}*a1 + {beta2}*a2 + {beta3}*a3 = {combinacao}\")\n",
    "\n",
    "# Verificação passo a passo\n",
    "print(f\"\\nPasso a passo:\")\n",
    "print(f\"{beta1}*a1 = {beta1 * a1}\")\n",
    "print(f\"{beta2}*a2 = {beta2 * a2}\")\n",
    "print(f\"{beta3}*a3 = {beta3 * a3}\")\n",
    "print(f\"Soma = {combinacao}\")"
   ]
  },
  {
   "cell_type": "markdown",
   "metadata": {
    "id": "inner_product"
   },
   "source": [
    "### 4.3 Produto Interno\n",
    "\n",
    "**Definição:** O produto interno (ou produto escalar) de dois vetores $a$ e $b$ de mesmo tamanho é:\n",
    "\n",
    "$$a^T b = a_1 b_1 + a_2 b_2 + \\cdots + a_n b_n = \\sum_{i=1}^{n} a_i b_i$$\n",
    "\n",
    "**Propriedades:**\n",
    "- Comutatividade: $a^T b = b^T a$\n",
    "- Associatividade com escalar: $(\\alpha a)^T b = \\alpha (a^T b)$\n",
    "- Distributividade: $(a + b)^T c = a^T c + b^T c$"
   ]
  },
  {
   "cell_type": "code",
   "execution_count": null,
   "metadata": {
    "id": "inner_product_examples"
   },
   "outputs": [],
   "source": [
    "# Produto interno básico\n",
    "a = np.array([1, 2, 3])\n",
    "b = np.array([4, 5, 6])\n",
    "\n",
    "print(f\"a = {a}\")\n",
    "print(f\"b = {b}\")\n",
    "\n",
    "# Calculando o produto interno\n",
    "produto_interno = np.dot(a, b)\n",
    "print(f\"\\nProduto interno a^T b = {produto_interno}\")\n",
    "\n",
    "# Verificação manual\n",
    "produto_manual = a[0]*b[0] + a[1]*b[1] + a[2]*b[2]\n",
    "print(f\"Verificação manual: {a[0]}*{b[0]} + {a[1]}*{b[1]} + {a[2]}*{b[2]} = {produto_manual}\")\n",
    "\n",
    "# Usando sum e multiplicação elemento a elemento\n",
    "produto_alternativo = np.sum(a * b)\n",
    "print(f\"Método alternativo: np.sum(a * b) = {produto_alternativo}\")\n",
    "\n",
    "# Usando o operador @\n",
    "produto_operador = a @ b\n",
    "print(f\"Usando operador @: a @ b = {produto_operador}\")"
   ]
  },
  {
   "cell_type": "code",
   "execution_count": null,
   "metadata": {
    "id": "inner_product_properties"
   },
   "outputs": [],
   "source": [
    "# Propriedades do produto interno\n",
    "x = np.array([2, -1, 3])\n",
    "y = np.array([1, 4, -2])\n",
    "z = np.array([3, 0, 1])\n",
    "alpha = 2.5\n",
    "\n",
    "print(f\"x = {x}\")\n",
    "print(f\"y = {y}\")\n",
    "print(f\"z = {z}\")\n",
    "print(f\"α = {alpha}\")\n",
    "\n",
    "# 1. Comutatividade: x^T y = y^T x\n",
    "xy = np.dot(x, y)\n",
    "yx = np.dot(y, x)\n",
    "print(f\"\\n1. Comutatividade:\")\n",
    "print(f\"x^T y = {xy}\")\n",
    "print(f\"y^T x = {yx}\")\n",
    "print(f\"São iguais? {xy == yx}\")\n",
    "\n",
    "# 2. Associatividade com escalar: (αx)^T y = α(x^T y)\n",
    "esq = np.dot(alpha * x, y)\n",
    "dir = alpha * np.dot(x, y)\n",
    "print(f\"\\n2. Associatividade com escalar:\")\n",
    "print(f\"(αx)^T y = {esq}\")\n",
    "print(f\"α(x^T y) = {dir}\")\n",
    "print(f\"São iguais? {np.isclose(esq, dir)}\")\n",
    "\n",
    "# 3. Distributividade: (x + y)^T z = x^T z + y^T z\n",
    "esq = np.dot(x + y, z)\n",
    "dir = np.dot(x, z) + np.dot(y, z)\n",
    "print(f\"\\n3. Distributividade:\")\n",
    "print(f\"(x + y)^T z = {esq}\")\n",
    "print(f\"x^T z + y^T z = {dir}\")\n",
    "print(f\"São iguais? {np.isclose(esq, dir)}\")"
   ]
  },
  {
   "cell_type": "code",
   "execution_count": null,
   "metadata": {
    "id": "inner_product_applications"
   },
   "outputs": [],
   "source": [
    "# Aplicações do produto interno\n",
    "\n",
    "# 1. Exemplo preço-quantidade (do livro)\n",
    "precos = np.array([2.50, 1.80, 3.20, 0.90])  # preços por unidade\n",
    "quantidades = np.array([3, 2, 1, 4])          # quantidades compradas\n",
    "\n",
    "custo_total = np.dot(precos, quantidades)\n",
    "print(f\"Exemplo preço-quantidade:\")\n",
    "print(f\"Preços: {precos}\")\n",
    "print(f\"Quantidades: {quantidades}\")\n",
    "print(f\"Custo total: R$ {custo_total:.2f}\")\n",
    "\n",
    "# 2. Média ponderada\n",
    "notas = np.array([8.5, 7.2, 9.1, 6.8])\n",
    "pesos = np.array([0.3, 0.2, 0.4, 0.1])  # pesos que somam 1\n",
    "\n",
    "media_ponderada = np.dot(notas, pesos)\n",
    "print(f\"\\nMédia ponderada:\")\n",
    "print(f\"Notas: {notas}\")\n",
    "print(f\"Pesos: {pesos}\")\n",
    "print(f\"Média ponderada: {media_ponderada:.2f}\")\n",
    "\n",
    "# 3. Trabalho em física (força · deslocamento)\n",
    "forca = np.array([10, -5, 3])      # força em Newtons\n",
    "deslocamento = np.array([2, 1, 4]) # deslocamento em metros\n",
    "\n",
    "trabalho = np.dot(forca, deslocamento)\n",
    "print(f\"\\nTrabalho em física:\")\n",
    "print(f\"Força: {forca} N\")\n",
    "print(f\"Deslocamento: {deslocamento} m\")\n",
    "print(f\"Trabalho: {trabalho} J (Joules)\")"
   ]
  },
  {
   "cell_type": "markdown",
   "metadata": {
    "id": "norm"
   },
   "source": [
    "### 4.4 Norma de Vetores\n",
    "\n",
    "**Definição:** A norma (ou magnitude) de um vetor $x$ é:\n",
    "\n",
    "$$\\|x\\| = \\sqrt{x_1^2 + x_2^2 + \\cdots + x_n^2} = \\sqrt{x^T x}$$\n",
    "\n",
    "**Propriedades:**\n",
    "- $\\|x\\| \\geq 0$ (não-negatividade)\n",
    "- $\\|x\\| = 0$ se e somente se $x = 0$\n",
    "- $\\|\\alpha x\\| = |\\alpha| \\|x\\|$ (homogeneidade)\n",
    "- $\\|x + y\\| \\leq \\|x\\| + \\|y\\|$ (desigualdade triangular)"
   ]
  },
  {
   "cell_type": "code",
   "execution_count": null,
   "metadata": {
    "id": "norm_examples"
   },
   "outputs": [],
   "source": [
    "# Calculando normas\n",
    "v = np.array([3, 4])\n",
    "print(f\"v = {v}\")\n",
    "\n",
    "# Usando np.linalg.norm\n",
    "norma_v = np.linalg.norm(v)\n",
    "print(f\"\\n||v|| = {norma_v}\")\n",
    "\n",
    "# Verificação manual\n",
    "norma_manual = np.sqrt(v[0]**2 + v[1]**2)\n",
    "print(f\"Verificação manual: √(3² + 4²) = √(9 + 16) = √25 = {norma_manual}\")\n",
    "\n",
    "# Usando produto interno\n",
    "norma_produto_interno = np.sqrt(np.dot(v, v))\n",
    "print(f\"Usando produto interno: √(v^T v) = {norma_produto_interno}\")\n",
    "\n",
    "# Exemplos com diferentes vetores\n",
    "print(f\"\\nExemplos com diferentes vetores:\")\n",
    "vetores = [\n",
    "    np.array([1, 0]),\n",
    "    np.array([0, 1]),\n",
    "    np.array([1, 1]),\n",
    "    np.array([2, -3, 1]),\n",
    "    np.array([0, 0, 0])\n",
    "]\n",
    "\n",
    "for i, vec in enumerate(vetores):\n",
    "    norma = np.linalg.norm(vec)\n",
    "    print(f\"||{vec}|| = {norma:.3f}\")"
   ]
  },
  {
   "cell_type": "code",
   "execution_count": null,
   "metadata": {
    "id": "norm_properties"
   },
   "outputs": [],
   "source": [
    "# Propriedades da norma\n",
    "x = np.array([2, -3, 1])\n",
    "y = np.array([1, 1, -2])\n",
    "alpha = -2.5\n",
    "\n",
    "print(f\"x = {x}\")\n",
    "print(f\"y = {y}\")\n",
    "print(f\"α = {alpha}\")\n",
    "\n",
    "# 1. Não-negatividade\n",
    "norma_x = np.linalg.norm(x)\n",
    "print(f\"\\n1. Não-negatividade:\")\n",
    "print(f\"||x|| = {norma_x:.3f} ≥ 0 ✓\")\n",
    "\n",
    "# 2. Homogeneidade: ||αx|| = |α| ||x||\n",
    "norma_alpha_x = np.linalg.norm(alpha * x)\n",
    "abs_alpha_norma_x = abs(alpha) * norma_x\n",
    "print(f\"\\n2. Homogeneidade:\")\n",
    "print(f\"||αx|| = {norma_alpha_x:.3f}\")\n",
    "print(f\"|α| ||x|| = {abs(alpha)} × {norma_x:.3f} = {abs_alpha_norma_x:.3f}\")\n",
    "print(f\"São iguais? {np.isclose(norma_alpha_x, abs_alpha_norma_x)}\")\n",
    "\n",
    "# 3. Desigualdade triangular: ||x + y|| ≤ ||x|| + ||y||\n",
    "norma_x_mais_y = np.linalg.norm(x + y)\n",
    "soma_normas = np.linalg.norm(x) + np.linalg.norm(y)\n",
    "print(f\"\\n3. Desigualdade triangular:\")\n",
    "print(f\"||x + y|| = {norma_x_mais_y:.3f}\")\n",
    "print(f\"||x|| + ||y|| = {np.linalg.norm(x):.3f} + {np.linalg.norm(y):.3f} = {soma_normas:.3f}\")\n",
    "print(f\"||x + y|| ≤ ||x|| + ||y||? {norma_x_mais_y <= soma_normas} ✓\")"
   ]
  },
  {
   "cell_type": "code",
   "execution_count": null,
   "metadata": {
    "id": "unit_vectors_normalization"
   },
   "outputs": [],
   "source": [
    "# Normalização de vetores\n",
    "# Um vetor unitário tem norma igual a 1\n",
    "\n",
    "# Vetor original\n",
    "v = np.array([3, 4, 0])\n",
    "print(f\"Vetor original: v = {v}\")\n",
    "print(f\"Norma de v: ||v|| = {np.linalg.norm(v):.3f}\")\n",
    "\n",
    "# Normalizando o vetor\n",
    "v_normalizado = v / np.linalg.norm(v)\n",
    "print(f\"\\nVetor normalizado: v̂ = {v_normalizado}\")\n",
    "print(f\"Norma do vetor normalizado: ||v̂|| = {np.linalg.norm(v_normalizado):.3f}\")\n",
    "\n",
    "# Função para normalizar vetores\n",
    "def normalizar_vetor(vetor):\n",
    "    \"\"\"Normaliza um vetor (retorna vetor unitário na mesma direção)\"\"\"\n",
    "    norma = np.linalg.norm(vetor)\n",
    "    if norma == 0:\n",
    "        return vetor  # vetor zero não pode ser normalizado\n",
    "    return vetor / norma\n",
    "\n",
    "# Testando com diferentes vetores\n",
    "print(f\"\\nTestando normalização:\")\n",
    "vetores_teste = [\n",
    "    np.array([1, 0]),\n",
    "    np.array([3, 4]),\n",
    "    np.array([1, 1, 1]),\n",
    "    np.array([2, -3, 6])\n",
    "]\n",
    "\n",
    "for vec in vetores_teste:\n",
    "    vec_norm = normalizar_vetor(vec)\n",
    "    print(f\"{vec} → {vec_norm} (norma: {np.linalg.norm(vec_norm):.3f})\")"
   ]
  },
  {
   "cell_type": "code",
   "execution_count": null,
   "metadata": {
    "id": "rms_and_applications"
   },
   "outputs": [],
   "source": [
    "# RMS (Root Mean Square) e aplicações da norma\n",
    "\n",
    "# RMS de um vetor\n",
    "def rms(vetor):\n",
    "    \"\"\"Calcula o valor RMS (Root Mean Square) de um vetor\"\"\"\n",
    "    return np.linalg.norm(vetor) / np.sqrt(len(vetor))\n",
    "\n",
    "# Exemplo com temperaturas\n",
    "temperaturas = np.array([22, 25, 23, 21, 24, 26, 23])\n",
    "print(f\"Temperaturas da semana: {temperaturas}°C\")\n",
    "print(f\"Norma: {np.linalg.norm(temperaturas):.2f}\")\n",
    "print(f\"RMS: {rms(temperaturas):.2f}°C\")\n",
    "print(f\"Média: {np.mean(temperaturas):.2f}°C\")\n",
    "\n",
    "# Distância entre pontos\n",
    "print(f\"\\nDistância entre pontos:\")\n",
    "ponto_A = np.array([1, 2])\n",
    "ponto_B = np.array([4, 6])\n",
    "\n",
    "distancia = np.linalg.norm(ponto_B - ponto_A)\n",
    "print(f\"Ponto A: {ponto_A}\")\n",
    "print(f\"Ponto B: {ponto_B}\")\n",
    "print(f\"Distância AB: {distancia:.3f}\")\n",
    "\n",
    "# Verificação com fórmula da distância\n",
    "dist_manual = np.sqrt((ponto_B[0] - ponto_A[0])**2 + (ponto_B[1] - ponto_A[1])**2)\n",
    "print(f\"Verificação: √((4-1)² + (6-2)²) = √(9 + 16) = √25 = {dist_manual}\")"
   ]
  }


,
  {
   "cell_type": "markdown",
   "metadata": {
    "id": "matplotlib_intro"
   },
   "source": [
    "## 5. Introdução ao Matplotlib\n",
    "\n",
    "Matplotlib é a biblioteca principal para criação de gráficos em Python. É especialmente útil para visualizar conceitos de álgebra linear."
   ]
  },
  {
   "cell_type": "code",
   "execution_count": null,
   "metadata": {
    "id": "matplotlib_basic"
   },
   "outputs": [],
   "source": [
    "# Importando matplotlib\n",
    "import matplotlib.pyplot as plt\n",
    "\n",
    "# Configuração para gráficos mais bonitos\n",
    "plt.style.use('default')\n",
    "plt.rcParams['figure.figsize'] = (8, 6)\n",
    "plt.rcParams['font.size'] = 12\n",
    "\n",
    "print(\"Matplotlib importado com sucesso!\")\n",
    "print(f\"Versão do Matplotlib: {plt.matplotlib.__version__}\")"
   ]
  },
  {
   "cell_type": "code",
   "execution_count": null,
   "metadata": {
    "id": "basic_plots"
   },
   "outputs": [],
   "source": [
    "# Gráfico básico\n",
    "x = np.linspace(0, 2*np.pi, 100)\n",
    "y = np.sin(x)\n",
    "\n",
    "plt.figure(figsize=(10, 6))\n",
    "plt.plot(x, y, 'b-', linewidth=2, label='sen(x)')\n",
    "plt.xlabel('x')\n",
    "plt.ylabel('sen(x)')\n",
    "plt.title('Gráfico da Função Seno')\n",
    "plt.grid(True, alpha=0.3)\n",
    "plt.legend()\n",
    "plt.show()\n",
    "\n",
    "# Múltiplas funções\n",
    "plt.figure(figsize=(10, 6))\n",
    "plt.plot(x, np.sin(x), 'b-', label='sen(x)', linewidth=2)\n",
    "plt.plot(x, np.cos(x), 'r--', label='cos(x)', linewidth=2)\n",
    "plt.xlabel('x')\n",
    "plt.ylabel('y')\n",
    "plt.title('Funções Trigonométricas')\n",
    "plt.grid(True, alpha=0.3)\n",
    "plt.legend()\n",
    "plt.show()"
   ]
  },
  {
   "cell_type": "code",
   "execution_count": null,
   "metadata": {
    "id": "vector_visualization"
   },
   "outputs": [],
   "source": [
    "# Visualizando vetores 2D\n",
    "def plotar_vetor(vetor, origem=[0, 0], cor='blue', label=None):\n",
    "    \"\"\"Plota um vetor 2D\"\"\"\n",
    "    plt.arrow(origem[0], origem[1], vetor[0], vetor[1], \n",
    "              head_width=0.1, head_length=0.1, fc=cor, ec=cor, \n",
    "              linewidth=2, label=label)\n",
    "\n",
    "# Exemplo: plotando vetores\n",
    "plt.figure(figsize=(10, 8))\n",
    "\n",
    "# Vetores para plotar\n",
    "v1 = np.array([3, 2])\n",
    "v2 = np.array([1, 3])\n",
    "v3 = v1 + v2  # soma dos vetores\n",
    "\n",
    "# Plotando os vetores\n",
    "plotar_vetor(v1, cor='blue', label='v1 = [3, 2]')\n",
    "plotar_vetor(v2, cor='red', label='v2 = [1, 3]')\n",
    "plotar_vetor(v3, cor='green', label='v1 + v2 = [4, 5]')\n",
    "\n",
    "# Mostrando a regra do paralelogramo\n",
    "plotar_vetor(v2, origem=v1, cor='red', alpha=0.5)\n",
    "plotar_vetor(v1, origem=v2, cor='blue', alpha=0.5)\n",
    "\n",
    "# Configurações do gráfico\n",
    "plt.xlim(-1, 6)\n",
    "plt.ylim(-1, 6)\n",
    "plt.grid(True, alpha=0.3)\n",
    "plt.axhline(y=0, color='k', linewidth=0.5)\n",
    "plt.axvline(x=0, color='k', linewidth=0.5)\n",
    "plt.xlabel('x')\n",
    "plt.ylabel('y')\n",
    "plt.title('Adição de Vetores - Regra do Paralelogramo')\n",
    "plt.legend()\n",
    "plt.axis('equal')\n",
    "plt.show()\n",
    "\n",
    "print(f\"v1 = {v1}\")\n",
    "print(f\"v2 = {v2}\")\n",
    "print(f\"v1 + v2 = {v3}\")"
   ]
  },
  {
   "cell_type": "code",
   "execution_count": null,
   "metadata": {
    "id": "vector_operations_visual"
   },
   "outputs": [],
   "source": [
    "# Visualizando operações com vetores\n",
    "fig, axes = plt.subplots(2, 2, figsize=(12, 10))\n",
    "fig.suptitle('Operações com Vetores', fontsize=16)\n",
    "\n",
    "v = np.array([2, 1])\n",
    "\n",
    "# 1. Vetor original\n",
    "ax1 = axes[0, 0]\n",
    "ax1.arrow(0, 0, v[0], v[1], head_width=0.1, head_length=0.1, \n",
    "          fc='blue', ec='blue', linewidth=2)\n",
    "ax1.set_xlim(-1, 5)\n",
    "ax1.set_ylim(-1, 3)\n",
    "ax1.grid(True, alpha=0.3)\n",
    "ax1.axhline(y=0, color='k', linewidth=0.5)\n",
    "ax1.axvline(x=0, color='k', linewidth=0.5)\n",
    "ax1.set_title('Vetor Original v = [2, 1]')\n",
    "ax1.set_aspect('equal')\n",
    "\n",
    "# 2. Multiplicação por escalar positivo\n",
    "ax2 = axes[0, 1]\n",
    "v_2 = 2 * v\n",
    "ax2.arrow(0, 0, v[0], v[1], head_width=0.1, head_length=0.1, \n",
    "          fc='blue', ec='blue', linewidth=2, alpha=0.5, label='v')\n",
    "ax2.arrow(0, 0, v_2[0], v_2[1], head_width=0.1, head_length=0.1, \n",
    "          fc='red', ec='red', linewidth=2, label='2v')\n",
    "ax2.set_xlim(-1, 5)\n",
    "ax2.set_ylim(-1, 3)\n",
    "ax2.grid(True, alpha=0.3)\n",
    "ax2.axhline(y=0, color='k', linewidth=0.5)\n",
    "ax2.axvline(x=0, color='k', linewidth=0.5)\n",
    "ax2.set_title('Multiplicação por 2')\n",
    "ax2.legend()\n",
    "ax2.set_aspect('equal')\n",
    "\n",
    "# 3. Multiplicação por escalar negativo\n",
    "ax3 = axes[1, 0]\n",
    "v_neg = -1.5 * v\n",
    "ax3.arrow(0, 0, v[0], v[1], head_width=0.1, head_length=0.1, \n",
    "          fc='blue', ec='blue', linewidth=2, alpha=0.5, label='v')\n",
    "ax3.arrow(0, 0, v_neg[0], v_neg[1], head_width=0.1, head_length=0.1, \n",
    "          fc='purple', ec='purple', linewidth=2, label='-1.5v')\n",
    "ax3.set_xlim(-4, 3)\n",
    "ax3.set_ylim(-2, 2)\n",
    "ax3.grid(True, alpha=0.3)\n",
    "ax3.axhline(y=0, color='k', linewidth=0.5)\n",
    "ax3.axvline(x=0, color='k', linewidth=0.5)\n",
    "ax3.set_title('Multiplicação por -1.5')\n",
    "ax3.legend()\n",
    "ax3.set_aspect('equal')\n",
    "\n",
    "# 4. Normalização\n",
    "ax4 = axes[1, 1]\n",
    "v_norm = v / np.linalg.norm(v)\n",
    "ax4.arrow(0, 0, v[0], v[1], head_width=0.05, head_length=0.05, \n",
    "          fc='blue', ec='blue', linewidth=2, alpha=0.5, label='v')\n",
    "ax4.arrow(0, 0, v_norm[0], v_norm[1], head_width=0.05, head_length=0.05, \n",
    "          fc='orange', ec='orange', linewidth=2, label='v̂ (normalizado)')\n",
    "# Círculo unitário\n",
    "circle = plt.Circle((0, 0), 1, fill=False, color='gray', linestyle='--', alpha=0.5)\n",
    "ax4.add_patch(circle)\n",
    "ax4.set_xlim(-1.5, 2.5)\n",
    "ax4.set_ylim(-1.5, 1.5)\n",
    "ax4.grid(True, alpha=0.3)\n",
    "ax4.axhline(y=0, color='k', linewidth=0.5)\n",
    "ax4.axvline(x=0, color='k', linewidth=0.5)\n",
    "ax4.set_title('Vetor Normalizado')\n",
    "ax4.legend()\n",
    "ax4.set_aspect('equal')\n",
    "\n",
    "plt.tight_layout()\n",
    "plt.show()\n",
    "\n",
    "print(f\"Vetor original: v = {v}\")\n",
    "print(f\"2v = {2*v}\")\n",
    "print(f\"-1.5v = {-1.5*v}\")\n",
    "print(f\"v normalizado = {v/np.linalg.norm(v)}\")\n",
    "print(f\"Norma do vetor normalizado = {np.linalg.norm(v/np.linalg.norm(v)):.3f}\")"
   ]
  },
  {
   "cell_type": "code",
   "execution_count": null,
   "metadata": {
    "id": "geometric_interpretation"
   },
   "outputs": [],
   "source": [
    "# Interpretação geométrica do produto interno\n",
    "plt.figure(figsize=(12, 5))\n",
    "\n",
    "# Dois vetores\n",
    "a = np.array([3, 1])\n",
    "b = np.array([1, 2])\n",
    "\n",
    "# Produto interno\n",
    "produto = np.dot(a, b)\n",
    "norma_a = np.linalg.norm(a)\n",
    "norma_b = np.linalg.norm(b)\n",
    "\n",
    "# Ângulo entre os vetores\n",
    "cos_theta = produto / (norma_a * norma_b)\n",
    "theta = np.arccos(cos_theta)\n",
    "theta_graus = np.degrees(theta)\n",
    "\n",
    "# Subplot 1: Vetores e ângulo\n",
    "plt.subplot(1, 2, 1)\n",
    "plt.arrow(0, 0, a[0], a[1], head_width=0.1, head_length=0.1, \n",
    "          fc='blue', ec='blue', linewidth=2, label=f'a = {a}')\n",
    "plt.arrow(0, 0, b[0], b[1], head_width=0.1, head_length=0.1, \n",
    "          fc='red', ec='red', linewidth=2, label=f'b = {b}')\n",
    "\n",
    "# Desenhando o ângulo\n",
    "angles = np.linspace(0, theta, 50)\n",
    "arc_x = 0.5 * np.cos(angles)\n",
    "arc_y = 0.5 * np.sin(angles)\n",
    "plt.plot(arc_x, arc_y, 'g-', linewidth=2)\n",
    "plt.text(0.3, 0.2, f'θ = {theta_graus:.1f}°', fontsize=12, color='green')\n",
    "\n",
    "plt.xlim(-0.5, 4)\n",
    "plt.ylim(-0.5, 3)\n",
    "plt.grid(True, alpha=0.3)\n",
    "plt.axhline(y=0, color='k', linewidth=0.5)\n",
    "plt.axvline(x=0, color='k', linewidth=0.5)\n",
    "plt.title('Ângulo entre Vetores')\n",
    "plt.legend()\n",
    "plt.axis('equal')\n",
    "\n",
    "# Subplot 2: Projeção\n",
    "plt.subplot(1, 2, 2)\n",
    "# Projeção de b sobre a\n",
    "proj_b_a = (np.dot(b, a) / np.dot(a, a)) * a\n",
    "\n",
    "plt.arrow(0, 0, a[0], a[1], head_width=0.1, head_length=0.1, \n",
    "          fc='blue', ec='blue', linewidth=2, label=f'a = {a}')\n",
    "plt.arrow(0, 0, b[0], b[1], head_width=0.1, head_length=0.1, \n",
    "          fc='red', ec='red', linewidth=2, label=f'b = {b}')\n",
    "plt.arrow(0, 0, proj_b_a[0], proj_b_a[1], head_width=0.1, head_length=0.1, \n",
    "          fc='green', ec='green', linewidth=2, label='proj_a(b)')\n",
    "\n",
    "# Linha pontilhada da projeção\n",
    "plt.plot([b[0], proj_b_a[0]], [b[1], proj_b_a[1]], 'k--', alpha=0.5)\n",
    "\n",
    "plt.xlim(-0.5, 4)\n",
    "plt.ylim(-0.5, 3)\n",
    "plt.grid(True, alpha=0.3)\n",
    "plt.axhline(y=0, color='k', linewidth=0.5)\n",
    "plt.axvline(x=0, color='k', linewidth=0.5)\n",
    "plt.title('Projeção de b sobre a')\n",
    "plt.legend()\n",
    "plt.axis('equal')\n",
    "\n",
    "plt.tight_layout()\n",
    "plt.show()\n",
    "\n",
    "print(f\"Vetores:\")\n",
    "print(f\"a = {a}, ||a|| = {norma_a:.3f}\")\n",
    "print(f\"b = {b}, ||b|| = {norma_b:.3f}\")\n",
    "print(f\"\\nProduto interno:\")\n",
    "print(f\"a^T b = {produto}\")\n",
    "print(f\"\\nÂngulo entre os vetores:\")\n",
    "print(f\"cos(θ) = (a^T b) / (||a|| ||b||) = {cos_theta:.3f}\")\n",
    "print(f\"θ = {theta_graus:.1f}°\")\n",
    "print(f\"\\nProjeção de b sobre a:\")\n",
    "print(f\"proj_a(b) = {proj_b_a}\")"
   ]
  },
  {
   "cell_type": "markdown",
   "metadata": {
    "id": "exercises"
   },
   "source": [
    "## 6. Exercícios Práticos\n",
    "\n",
    "Agora vamos aplicar os conceitos aprendidos em exercícios práticos de álgebra linear."
   ]
  },
  {
   "cell_type": "markdown",
   "metadata": {
    "id": "basic_exercises"
   },
   "source": [
    "### 6.1 Exercícios Básicos"
   ]
  },
  {
   "cell_type": "code",
   "execution_count": null,
   "metadata": {
    "id": "exercise_1"
   },
   "outputs": [],
   "source": [
    "# Exercício 1: Criação e manipulação de vetores\n",
    "print(\"=== EXERCÍCIO 1: Criação e Manipulação de Vetores ===\")\n",
    "print()\n",
    "\n",
    "# a) Crie os seguintes vetores:\n",
    "print(\"a) Criando vetores:\")\n",
    "u = np.array([2, -1, 3, 0])\n",
    "v = np.array([1, 4, -2, 5])\n",
    "w = np.array([0, 0, 0, 0])\n",
    "e2 = np.array([0, 1, 0, 0])  # segundo vetor unitário\n",
    "\n",
    "print(f\"u = {u}\")\n",
    "print(f\"v = {v}\")\n",
    "print(f\"w = {w} (vetor zero)\")\n",
    "print(f\"e2 = {e2} (segundo vetor unitário)\")\n",
    "\n",
    "# b) Calcule as seguintes operações:\n",
    "print(f\"\\nb) Operações:\")\n",
    "print(f\"u + v = {u + v}\")\n",
    "print(f\"u - v = {u - v}\")\n",
    "print(f\"3u = {3 * u}\")\n",
    "print(f\"-2v = {-2 * v}\")\n",
    "print(f\"u + w = {u + w}\")\n",
    "\n",
    "# c) Verifique propriedades\n",
    "print(f\"\\nc) Verificando propriedades:\")\n",
    "print(f\"u + v = v + u? {np.array_equal(u + v, v + u)}\")\n",
    "print(f\"u + w = u? {np.array_equal(u + w, u)}\")\n",
    "print(f\"2(u + v) = 2u + 2v? {np.array_equal(2*(u + v), 2*u + 2*v)}\")"
   ]
  },
  {
   "cell_type": "code",
   "execution_count": null,
   "metadata": {
    "id": "exercise_2"
   },
   "outputs": [],
   "source": [
    "# Exercício 2: Produto interno\n",
    "print(\"=== EXERCÍCIO 2: Produto Interno ===\")\n",
    "print()\n",
    "\n",
    "# Vetores dados\n",
    "a = np.array([1, 2, -1])\n",
    "b = np.array([3, 0, 4])\n",
    "c = np.array([2, -1, 1])\n",
    "\n",
    "print(f\"a = {a}\")\n",
    "print(f\"b = {b}\")\n",
    "print(f\"c = {c}\")\n",
    "print()\n",
    "\n",
    "# a) Calcule os produtos internos\n",
    "print(\"a) Produtos internos:\")\n",
    "ab = np.dot(a, b)\n",
    "ac = np.dot(a, c)\n",
    "bc = np.dot(b, c)\n",
    "aa = np.dot(a, a)\n",
    "\n",
    "print(f\"a^T b = {ab}\")\n",
    "print(f\"a^T c = {ac}\")\n",
    "print(f\"b^T c = {bc}\")\n",
    "print(f\"a^T a = {aa}\")\n",
    "\n",
    "# b) Verifique a comutatividade\n",
    "print(f\"\\nb) Comutatividade:\")\n",
    "ba = np.dot(b, a)\n",
    "print(f\"a^T b = {ab}\")\n",
    "print(f\"b^T a = {ba}\")\n",
    "print(f\"São iguais? {ab == ba}\")\n",
    "\n",
    "# c) Calcule (a + b)^T c e a^T c + b^T c\n",
    "print(f\"\\nc) Distributividade:\")\n",
    "esq = np.dot(a + b, c)\n",
    "dir = np.dot(a, c) + np.dot(b, c)\n",
    "print(f\"(a + b)^T c = {esq}\")\n",
    "print(f\"a^T c + b^T c = {dir}\")\n",
    "print(f\"São iguais? {esq == dir}\")\n",
    "\n",
    "# d) Determine quais pares de vetores são ortogonais\n",
    "print(f\"\\nd) Ortogonalidade (produto interno = 0):\")\n",
    "print(f\"a e b são ortogonais? {ab == 0}\")\n",
    "print(f\"a e c são ortogonais? {ac == 0}\")\n",
    "print(f\"b e c são ortogonais? {bc == 0}\")"
   ]
  },
  {
   "cell_type": "code",
   "execution_count": null,
   "metadata": {
    "id": "exercise_3"
   },
   "outputs": [],
   "source": [
    "# Exercício 3: Norma de vetores\n",
    "print(\"=== EXERCÍCIO 3: Norma de Vetores ===\")\n",
    "print()\n",
    "\n",
    "# Vetores dados\n",
    "vetores = {\n",
    "    'p': np.array([3, 4]),\n",
    "    'q': np.array([1, -1, 2]),\n",
    "    'r': np.array([2, 0, -1, 3]),\n",
    "    's': np.array([0, 0, 0])\n",
    "}\n",
    "\n",
    "# a) Calcule as normas\n",
    "print(\"a) Calculando normas:\")\n",
    "for nome, vetor in vetores.items():\n",
    "    norma = np.linalg.norm(vetor)\n",
    "    print(f\"||{nome}|| = ||{vetor}|| = {norma:.3f}\")\n",
    "\n",
    "# b) Normalize os vetores não-zero\n",
    "print(f\"\\nb) Normalizando vetores:\")\n",
    "for nome, vetor in vetores.items():\n",
    "    norma = np.linalg.norm(vetor)\n",
    "    if norma > 0:\n",
    "        vetor_normalizado = vetor / norma\n",
    "        norma_normalizado = np.linalg.norm(vetor_normalizado)\n",
    "        print(f\"{nome}_normalizado = {vetor_normalizado}, ||{nome}_normalizado|| = {norma_normalizado:.3f}\")\n",
    "    else:\n",
    "        print(f\"{nome} é o vetor zero, não pode ser normalizado\")\n",
    "\n",
    "# c) Calcule distâncias\n",
    "print(f\"\\nc) Calculando distâncias:\")\n",
    "p = vetores['p']\n",
    "# Criando um vetor q_2d para comparar com p (mesmo tamanho)\n",
    "q_2d = np.array([1, -1])\n",
    "distancia_pq = np.linalg.norm(p - q_2d)\n",
    "print(f\"Distância entre p={p} e q_2d={q_2d}: {distancia_pq:.3f}\")\n",
    "\n",
    "# d) Verifique a desigualdade triangular\n",
    "print(f\"\\nd) Desigualdade triangular:\")\n",
    "x = np.array([1, 2, -1])\n",
    "y = np.array([2, -1, 1])\n",
    "norma_x_mais_y = np.linalg.norm(x + y)\n",
    "soma_normas = np.linalg.norm(x) + np.linalg.norm(y)\n",
    "print(f\"x = {x}, ||x|| = {np.linalg.norm(x):.3f}\")\n",
    "print(f\"y = {y}, ||y|| = {np.linalg.norm(y):.3f}\")\n",
    "print(f\"||x + y|| = {norma_x_mais_y:.3f}\")\n",
    "print(f\"||x|| + ||y|| = {soma_normas:.3f}\")\n",
    "print(f\"||x + y|| ≤ ||x|| + ||y||? {norma_x_mais_y <= soma_normas}\")"
   ]
  },
  {
   "cell_type": "markdown",
   "metadata": {
    "id": "applied_exercises"
   },
   "source": [
    "### 6.2 Exercícios Aplicados"
   ]
  },
  {
   "cell_type": "code",
   "execution_count": null,
   "metadata": {
    "id": "exercise_4"
   },
   "outputs": [],
   "source": [
    "# Exercício 4: Problema preço-quantidade (do livro)\n",
    "print(\"=== EXERCÍCIO 4: Problema Preço-Quantidade ===\")\n",
    "print()\n",
    "\n",
    "# Uma loja vende 4 produtos com os seguintes preços por unidade:\n",
    "precos = np.array([12.50, 8.30, 15.75, 6.90])  # em reais\n",
    "produtos = ['Produto A', 'Produto B', 'Produto C', 'Produto D']\n",
    "\n",
    "print(\"Preços por unidade:\")\n",
    "for i, produto in enumerate(produtos):\n",
    "    print(f\"{produto}: R$ {precos[i]:.2f}\")\n",
    "\n",
    "# Três clientes fazem as seguintes compras:\n",
    "cliente1 = np.array([2, 1, 0, 3])  # quantidades\n",
    "cliente2 = np.array([1, 2, 1, 1])\n",
    "cliente3 = np.array([0, 3, 2, 2])\n",
    "\n",
    "print(f\"\\nQuantidades compradas:\")\n",
    "print(f\"Cliente 1: {cliente1}\")\n",
    "print(f\"Cliente 2: {cliente2}\")\n",
    "print(f\"Cliente 3: {cliente3}\")\n",
    "\n",
    "# Calcule o valor total pago por cada cliente\n",
    "print(f\"\\nValor total pago:\")\n",
    "total1 = np.dot(precos, cliente1)\n",
    "total2 = np.dot(precos, cliente2)\n",
    "total3 = np.dot(precos, cliente3)\n",
    "\n",
    "print(f\"Cliente 1: R$ {total1:.2f}\")\n",
    "print(f\"Cliente 2: R$ {total2:.2f}\")\n",
    "print(f\"Cliente 3: R$ {total3:.2f}\")\n",
    "\n",
    "# Calcule a quantidade total vendida de cada produto\n",
    "total_vendido = cliente1 + cliente2 + cliente3\n",
    "print(f\"\\nQuantidade total vendida de cada produto:\")\n",
    "for i, produto in enumerate(produtos):\n",
    "    print(f\"{produto}: {total_vendido[i]} unidades\")\n",
    "\n",
    "# Receita total da loja\n",
    "receita_total = np.dot(precos, total_vendido)\n",
    "print(f\"\\nReceita total da loja: R$ {receita_total:.2f}\")"
   ]
  },
  {
   "cell_type": "code",
   "execution_count": null,
   "metadata": {
    "id": "exercise_5"
   },
   "outputs": [],
   "source": [
    "# Exercício 5: Análise de dados de temperatura\n",
    "print(\"=== EXERCÍCIO 5: Análise de Dados de Temperatura ===\")\n",
    "print()\n",
    "\n",
    "# Temperaturas médias diárias de uma semana (em °C)\n",
    "temperaturas = np.array([22.5, 25.1, 23.8, 21.9, 24.2, 26.0, 23.5])\n",
    "dias = ['Segunda', 'Terça', 'Quarta', 'Quinta', 'Sexta', 'Sábado', 'Domingo']\n",
    "\n",
    "print(\"Temperaturas da semana:\")\n",
    "for i, dia in enumerate(dias):\n",
    "    print(f\"{dia}: {temperaturas[i]:.1f}°C\")\n",
    "\n",
    "# a) Calcule a temperatura média da semana\n",
    "# Usando produto interno com vetor de uns\n",
    "ones = np.ones(7)\n",
    "temp_media = np.dot(temperaturas, ones) / 7\n",
    "print(f\"\\na) Temperatura média: {temp_media:.2f}°C\")\n",
    "\n",
    "# Verificação com np.mean\n",
    "print(f\"   Verificação com np.mean: {np.mean(temperaturas):.2f}°C\")\n",
    "\n",
    "# b) Calcule o desvio de cada dia em relação à média\n",
    "desvios = temperaturas - temp_media\n",
    "print(f\"\\nb) Desvios em relação à média:\")\n",
    "for i, dia in enumerate(dias):\n",
    "    print(f\"{dia}: {desvios[i]:+.2f}°C\")\n",
    "\n",
    "# c) Calcule a norma do vetor de desvios\n",
    "norma_desvios = np.linalg.norm(desvios)\n",
    "print(f\"\\nc) Norma do vetor de desvios: {norma_desvios:.3f}\")\n",
    "\n",
    "# d) Calcule o RMS dos desvios (desvio padrão)\n",
    "rms_desvios = norma_desvios / np.sqrt(7)\n",
    "print(f\"d) RMS dos desvios (desvio padrão): {rms_desvios:.3f}°C\")\n",
    "\n",
    "# Verificação com np.std\n",
    "print(f\"   Verificação com np.std: {np.std(temperaturas):.3f}°C\")\n",
    "\n",
    "# e) Identifique o dia mais quente e mais frio\n",
    "dia_mais_quente = np.argmax(temperaturas)\n",
    "dia_mais_frio = np.argmin(temperaturas)\n",
    "print(f\"\\ne) Dia mais quente: {dias[dia_mais_quente]} ({temperaturas[dia_mais_quente]:.1f}°C)\")\n",
    "print(f\"   Dia mais frio: {dias[dia_mais_frio]} ({temperaturas[dia_mais_frio]:.1f}°C)\")"
   ]
  },
  {
   "cell_type": "code",
   "execution_count": null,
   "metadata": {
    "id": "exercise_6"
   },
   "outputs": [],
   "source": [
    "# Exercício 6: Análise geométrica\n",
    "print(\"=== EXERCÍCIO 6: Análise Geométrica ===\")\n",
    "print()\n",
    "\n",
    "# Três pontos no plano\n",
    "A = np.array([1, 2])\n",
    "B = np.array([4, 6])\n",
    "C = np.array([7, 2])\n",
    "\n",
    "print(f\"Pontos:\")\n",
    "print(f\"A = {A}\")\n",
    "print(f\"B = {B}\")\n",
    "print(f\"C = {C}\")\n",
    "\n",
    "# a) Calcule os vetores que representam os lados do triângulo\n",
    "AB = B - A\n",
    "BC = C - B\n",
    "CA = A - C\n",
    "\n",
    "print(f\"\\na) Vetores dos lados:\")\n",
    "print(f\"AB = {AB}\")\n",
    "print(f\"BC = {BC}\")\n",
    "print(f\"CA = {CA}\")\n",
    "\n",
    "# b) Calcule o comprimento de cada lado\n",
    "lado_AB = np.linalg.norm(AB)\n",
    "lado_BC = np.linalg.norm(BC)\n",
    "lado_CA = np.linalg.norm(CA)\n",
    "\n",
    "print(f\"\\nb) Comprimentos dos lados:\")\n",
    "print(f\"|AB| = {lado_AB:.3f}\")\n",
    "print(f\"|BC| = {lado_BC:.3f}\")\n",
    "print(f\"|CA| = {lado_CA:.3f}\")\n",
    "\n",
    "# c) Calcule o perímetro\n",
    "perimetro = lado_AB + lado_BC + lado_CA\n",
    "print(f\"\\nc) Perímetro = {perimetro:.3f}\")\n",
    "\n",
    "# d) Calcule os ângulos do triângulo\n",
    "# Ângulo em A (entre vetores AB e AC)\n",
    "AC = C - A\n",
    "cos_A = np.dot(AB, AC) / (np.linalg.norm(AB) * np.linalg.norm(AC))\n",
    "angulo_A = np.degrees(np.arccos(cos_A))\n",
    "\n",
    "# Ângulo em B (entre vetores BA e BC)\n",
    "BA = A - B\n",
    "cos_B = np.dot(BA, BC) / (np.linalg.norm(BA) * np.linalg.norm(BC))\n",
    "angulo_B = np.degrees(np.arccos(cos_B))\n",
    "\n",
    "# Ângulo em C (entre vetores CB e CA)\n",
    "CB = B - C\n",
    "cos_C = np.dot(CB, CA) / (np.linalg.norm(CB) * np.linalg.norm(CA))\n",
    "angulo_C = np.degrees(np.arccos(cos_C))\n",
    "\n",
    "print(f\"\\nd) Ângulos do triângulo:\")\n",
    "print(f\"Ângulo em A: {angulo_A:.1f}°\")\n",
    "print(f\"Ângulo em B: {angulo_B:.1f}°\")\n",
    "print(f\"Ângulo em C: {angulo_C:.1f}°\")\n",
    "print(f\"Soma dos ângulos: {angulo_A + angulo_B + angulo_C:.1f}° (deve ser 180°)\")\n",
    "\n",
    "# e) Visualize o triângulo\n",
    "plt.figure(figsize=(8, 6))\n",
    "# Plotando os pontos\n",
    "pontos = np.array([A, B, C, A])  # fechando o triângulo\n",
    "plt.plot(pontos[:, 0], pontos[:, 1], 'b-o', linewidth=2, markersize=8)\n",
    "\n",
    "# Anotando os pontos\n",
    "plt.annotate('A', A, xytext=(5, 5), textcoords='offset points', fontsize=12, fontweight='bold')\n",
    "plt.annotate('B', B, xytext=(5, 5), textcoords='offset points', fontsize=12, fontweight='bold')\n",
    "plt.annotate('C', C, xytext=(5, 5), textcoords='offset points', fontsize=12, fontweight='bold')\n",
    "\n",
    "# Anotando os comprimentos dos lados\n",
    "meio_AB = (A + B) / 2\n",
    "meio_BC = (B + C) / 2\n",
    "meio_CA = (C + A) / 2\n",
    "\n",
    "plt.annotate(f'{lado_AB:.2f}', meio_AB, xytext=(0, 10), textcoords='offset points', \n",
    "             ha='center', fontsize=10, color='red')\n",
    "plt.annotate(f'{lado_BC:.2f}', meio_BC, xytext=(10, 0), textcoords='offset points', \n",
    "             ha='center', fontsize=10, color='red')\n",
    "plt.annotate(f'{lado_CA:.2f}', meio_CA, xytext=(0, -10), textcoords='offset points', \n",
    "             ha='center', fontsize=10, color='red')\n",
    "\n",
    "plt.grid(True, alpha=0.3)\n",
    "plt.axis('equal')\n",
    "plt.xlabel('x')\n",
    "plt.ylabel('y')\n",
    "plt.title('Triângulo ABC')\n",
    "plt.show()\n",
    "\n",
    "print(f\"\\ne) Triângulo plotado acima com comprimentos dos lados anotados.\")"
   ]
  },
  {
   "cell_type": "markdown",
   "metadata": {
    "id": "summary"
   },
   "source": [
    "## 7. Resumo e Próximos Passos\n",
    "\n",
    "### O que aprendemos hoje:\n",
    "\n",
    "1. **Google Colab**: Ambiente de desenvolvimento baseado na nuvem\n",
    "2. **Python Básico**: Tipos de dados, estruturas de controle, funções\n",
    "3. **NumPy**: Biblioteca fundamental para computação científica\n",
    "4. **Conceitos de Álgebra Linear**:\n",
    "   - Vetores e suas representações\n",
    "   - Operações com vetores (adição, multiplicação por escalar)\n",
    "   - Produto interno e suas aplicações\n",
    "   - Norma de vetores e normalização\n",
    "5. **Matplotlib**: Visualização de dados e conceitos geométricos\n",
    "6. **Exercícios Práticos**: Aplicação dos conceitos em problemas reais\n",
    "\n",
    "### Conceitos-chave do livro abordados:\n",
    "- **Capítulo 1.1**: Definição de vetores, indexação, vetores especiais\n",
    "- **Capítulo 1.2**: Adição de vetores e suas propriedades\n",
    "- **Capítulo 1.3**: Multiplicação escalar-vetor\n",
    "- **Capítulo 1.4**: Produto interno e aplicações\n",
    "- **Capítulo 3.1**: Norma euclidiana e suas propriedades\n",
    "\n",
    "### Para a próxima aula:\n",
    "1. **Matrizes**: Definição, operações, multiplicação matriz-vetor\n",
    "2. **Sistemas lineares**: Representação matricial\n",
    "3. **Funções lineares**: Conceito e aplicações\n",
    "\n",
    "### Recursos para estudo:\n",
    "- **Livro**: \"Introduction to Applied Linear Algebra\" - Boyd & Vandenberghe\n",
    "- **Documentação NumPy**: https://numpy.org/doc/\n",
    "- **Documentação Matplotlib**: https://matplotlib.org/\n",
    "- **Google Colab**: https://colab.research.google.com/\n",
    "\n",
    "### Dicas importantes:\n",
    "1. **Pratique regularmente** com os exercícios\n",
    "2. **Visualize** sempre que possível - a geometria ajuda na compreensão\n",
    "3. **Conecte teoria e prática** - veja as aplicações dos conceitos\n",
    "4. **Use a documentação** - aprenda a consultar as funções do NumPy\n",
    "\n",
    "---\n",
    "\n",
    "**Parabéns!** Você completou a primeira aula de Python para Álgebra Linear. Continue praticando e explorando os conceitos apresentados."
   ]
  }
 ],
 "metadata": {
  "colab": {
   "provenance": []
  },
  "kernelspec": {
   "display_name": "Python 3",
   "name": "python3"
  },
  "language_info": {
   "name": "python"
  }
 },
 "nbformat": 4,
 "nbformat_minor": 0
}

