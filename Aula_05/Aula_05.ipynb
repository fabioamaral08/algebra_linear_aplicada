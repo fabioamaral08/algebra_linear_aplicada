{
 "cells": [
  {
   "cell_type": "code",
   "execution_count": 1,
   "id": "d2fe9d9e",
   "metadata": {},
   "outputs": [],
   "source": [
    "import numpy as np"
   ]
  },
  {
   "cell_type": "markdown",
   "id": "823ea80b",
   "metadata": {},
   "source": [
    "# Descobrir vetor a da função produto interno\n",
    "\n",
    "$a_i = f(e_i)$\n",
    "\n",
    "$a = [f(e_1), f(e_2),..., f(e_n)]$"
   ]
  },
  {
   "cell_type": "code",
   "execution_count": 8,
   "id": "a1fa62e3",
   "metadata": {},
   "outputs": [],
   "source": [
    "def ret_vet_a(f, n):\n",
    "    base_canoninca = np.eye(n)\n",
    "    a = np.array([f(base_canoninca[i]) for i in range(n)])\n",
    "    return a\n"
   ]
  },
  {
   "cell_type": "markdown",
   "id": "62932789",
   "metadata": {},
   "source": [
    "---\n",
    "\n",
    "# Independência Linear e Dependência Linear\n",
    "\n",
    "## Definições\n",
    "\n",
    "Os vetores $v_1, v_2, \\ldots, v_k$ são **linearmente independentes (LI)** se:\n",
    "$$c_1v_1 + c_2v_2 + \\cdots + c_kv_k = 0 \\Rightarrow c_1 = c_2 = \\cdots = c_k = 0$$\n",
    "\n",
    "Caso contrário, são **linearmente dependentes (LD)**.\n",
    "\n",
    "## Método Computacional:\n",
    "\n",
    "**Teorema:** Os vetores $\\{v_1, v_2, \\ldots, v_k\\}$ são LI se e somente se:\n",
    "$$\\text{rank}([v_1 \\; v_2 \\; \\cdots \\; v_k]) = k$$"
   ]
  },
  {
   "cell_type": "markdown",
   "id": "1159df6b",
   "metadata": {},
   "source": [
    "## Verificar se um conjunto de vetores é LI ou LD\n",
    "\n",
    "Utilizaremos a função matrix_rank: ela retorna quantos vetores do conjunto são linearmente independentes."
   ]
  },
  {
   "cell_type": "code",
   "execution_count": 11,
   "id": "8b4eb0eb",
   "metadata": {},
   "outputs": [
    {
     "name": "stdout",
     "output_type": "stream",
     "text": [
      "Conjunto A:\n",
      "v₁ = [1 0 2]\n",
      "v₂ = [ 0  1 -1]\n",
      "v₃ = [1 1 0]\n",
      "Conjunto B:\n",
      "v₁ = [1 2 3]\n",
      "v₂ = [4 5 6]\n",
      "v₃ = [7 8 9]\n",
      "\n",
      "Conjunto C (4 vetores em R³):\n",
      "v₁ = [1 0 0]\n",
      "v₂ = [0 1 0]\n",
      "v₃ = [0 0 1]\n",
      "v₄ = [1 1 1]\n",
      "Conjunto A: 3 vetores, 3 independentes, É LI? True\n",
      "Conjunto B: 3 vetores, 2 independentes, É LI? False\n",
      "Conjunto C: 4 vetores, 3 independentes, É LI? False\n"
     ]
    }
   ],
   "source": [
    "\n",
    "print(\"Conjunto A:\")\n",
    "v1_A = np.array([1, 0, 2])\n",
    "v2_A = np.array([0, 1, -1])\n",
    "v3_A = np.array([1, 1, 0])\n",
    "conjunto_A = [v1_A, v2_A, v3_A]\n",
    "\n",
    "print(f\"v₁ = {v1_A}\")\n",
    "print(f\"v₂ = {v2_A}\")\n",
    "print(f\"v₃ = {v3_A}\")\n",
    "\n",
    "print(\"Conjunto B:\")\n",
    "v1_B = np.array([1, 2, 3])\n",
    "v2_B = np.array([4, 5, 6])\n",
    "v3_B = np.array([7, 8, 9])\n",
    "conjunto_B = [v1_B, v2_B, v3_B]\n",
    "print(f\"v₁ = {v1_B}\")\n",
    "print(f\"v₂ = {v2_B}\")\n",
    "print(f\"v₃ = {v3_B}\")\n",
    "\n",
    "\n",
    "# Conjunto C: Mais vetores que a dimensão\n",
    "print(f\"\\nConjunto C (4 vetores em R³):\")\n",
    "v1_C = np.array([1, 0, 0])\n",
    "v2_C = np.array([0, 1, 0])\n",
    "v3_C = np.array([0, 0, 1])\n",
    "v4_C = np.array([1, 1, 1])\n",
    "\n",
    "print(f\"v₁ = {v1_C}\")\n",
    "print(f\"v₂ = {v2_C}\")\n",
    "print(f\"v₃ = {v3_C}\")\n",
    "print(f\"v₄ = {v4_C}\")\n",
    "conjunto_C = [v1_C, v2_C, v3_C, v4_C]\n",
    "\n",
    "\n",
    "n_a = len(conjunto_A)\n",
    "rank_A = np.linalg.matrix_rank(conjunto_A)\n",
    "print(f\"Conjunto A: {n_a} vetores, {rank_A} independentes, É LI? {rank_A == n_a}\")\n",
    "\n",
    "n_b = len(conjunto_B)\n",
    "rank_B = np.linalg.matrix_rank(conjunto_B)\n",
    "print(f\"Conjunto B: {n_b} vetores, {rank_B} independentes, É LI? {rank_B == n_b}\")\n",
    "\n",
    "n_c = len(conjunto_C)\n",
    "rank_C = np.linalg.matrix_rank(conjunto_C)\n",
    "print(f\"Conjunto C: {n_c} vetores, {rank_C} independentes, É LI? {rank_C == n_c}\")\n"
   ]
  },
  {
   "cell_type": "markdown",
   "id": "3346a01a",
   "metadata": {},
   "source": [
    "## Ortonormalização:\n",
    "\n",
    "### Projeção Ortogonal\n",
    "\n",
    "A projeção ortogonal de **v** sobre **u** é:\n",
    "$$\\text{proj}_u(v) = \\frac{\\langle v, u \\rangle}{\\langle u, u \\rangle} u$$\n",
    "$$\\text{proj}_u(v) = \\langle v, u \\rangle\\frac{u}{\\langle u, u \\rangle}$$\n",
    "\n",
    "### Algoritmo de Gram-Schmidt\n",
    "\n",
    "Dados vetores LI $\\{v_1, v_2, \\ldots, v_k\\}$, construímos $\\{u_1, u_2, \\ldots, u_k\\}$ ortogonais:\n",
    "\n",
    "$$u_1 = v_1$$\n",
    "$$u_2 = v_2 - \\text{proj}_{u_1}(v_2)$$\n",
    "$$u_3 = v_3 - \\text{proj}_{u_1}(v_3) - \\text{proj}_{u_2}(v_3)$$\n",
    "$$\\vdots$$\n",
    "$$u_k = v_k - \\sum_{i=1}^{k-1} \\text{proj}_{u_i}(v_k)$$\n",
    "\n",
    "Para base ortonormal: $q_i = \\frac{u_i}{\\|u_i\\|}$"
   ]
  },
  {
   "cell_type": "code",
   "execution_count": 15,
   "id": "82279501",
   "metadata": {},
   "outputs": [],
   "source": [
    "def proj(u,v):\n",
    "    return (np.dot(v,u) / np.dot(u,u)) * u\n",
    "#lembre de verificar o caso do conjunto ser LD\n",
    "def ortogonalizar(vetores, normalizar = False):\n",
    "    vetores_ort = []\n",
    "\n",
    "    for v_k in vetores:\n",
    "        soma = 0\n",
    "        for u_i in vetores_ort:\n",
    "            soma += proj(u_i, v_k)\n",
    "        u_k = v_k - soma\n",
    "        norm = np.linalg.norm(u_k)\n",
    "        if np.abs(norm) < 1e-10:\n",
    "            print(\"O conjunto é LD\")\n",
    "            continue\n",
    "            # return []\n",
    "        if normalizar:\n",
    "            u_k = u_k / (norm)\n",
    "        vetores_ort.append(u_k)\n",
    "    return vetores_ort\n"
   ]
  },
  {
   "cell_type": "code",
   "execution_count": 28,
   "id": "07ad5dc4",
   "metadata": {},
   "outputs": [
    {
     "name": "stdout",
     "output_type": "stream",
     "text": [
      "Vetores do exercício:\n",
      "[array([1., 1., 1.]), array([1., 1., 0.]), array([1., 0., 0.])]\n",
      "\n",
      "Vetores ortonormalizados:\n",
      "[array([0.57735027, 0.57735027, 0.57735027]), array([ 0.40824829,  0.40824829, -0.81649658]), array([ 7.07106781e-01, -7.07106781e-01, -7.85046229e-17])]\n",
      "<u_1, u_1> = 1.0000000000000002\n",
      "<u_1, u_2> = -1.6653345369377348e-16\n",
      "<u_1, u_3> = 1.0186486047573876e-17\n",
      "<u_2, u_1> = -1.6653345369377348e-16\n",
      "<u_2, u_2> = 1.0\n",
      "<u_2, u_3> = 1.1960990744404329e-16\n",
      "<u_3, u_1> = 1.0186486047573876e-17\n",
      "<u_3, u_2> = 1.1960990744404329e-16\n",
      "<u_3, u_3> = 1.0\n"
     ]
    }
   ],
   "source": [
    "# Exercício: Complete a implementação\n",
    "\n",
    "# Vetores dados\n",
    "w1 = np.array([1, 1, 1], dtype=float)\n",
    "w2 = np.array([1, 1, 0], dtype=float)\n",
    "w3 = np.array([1, 0, 0], dtype=float)\n",
    "\n",
    "vetores_exercicio = [w1, w2, w3]\n",
    "# vetores_exercicio = conjunto_B\n",
    "print(\"Vetores do exercício:\")\n",
    "print(vetores_exercicio)\n",
    "# for i, w in enumerate(vetores_exercicio):\n",
    "#     print(f\"w_{i+1} = {w}\")\n",
    "\n",
    "\n",
    "# Sua implementação aqui:\n",
    "# 1. Verificar se são LI\n",
    "# 2. Aplicar Gram-Schmidt\n",
    "vet_ort = ortogonalizar(vetores_exercicio, normalizar=True)\n",
    "print(\"\\nVetores ortonormalizados:\")\n",
    "print(vet_ort)\n",
    "# 3. Verificar ortogonalidade\n",
    "mat = np.zeros((len(vet_ort), len(vet_ort)))\n",
    "for i, u in enumerate(vet_ort):\n",
    "    for j, v in enumerate(vet_ort):\n",
    "        prod = np.dot(u, v)\n",
    "        # mat[i,j] = prod\n",
    "        print(f\"<u_{i+1}, u_{j+1}> = {prod}\")\n",
    "        if i == j:\n",
    "            if not np.allclose(prod, 1):\n",
    "                print(\"Erro na ortonormalização\")\n",
    "        else:\n",
    "            if not np.allclose(prod, 0):\n",
    "            # if prod != 0:\n",
    "                print(\"Erro na ortonormalização\")\n",
    "                break\n"
   ]
  },
  {
   "cell_type": "code",
   "execution_count": null,
   "id": "3bd12321",
   "metadata": {},
   "outputs": [],
   "source": []
  }
 ],
 "metadata": {
  "kernelspec": {
   "display_name": "linalg_env",
   "language": "python",
   "name": "python3"
  },
  "language_info": {
   "codemirror_mode": {
    "name": "ipython",
    "version": 3
   },
   "file_extension": ".py",
   "mimetype": "text/x-python",
   "name": "python",
   "nbconvert_exporter": "python",
   "pygments_lexer": "ipython3",
   "version": "3.13.5"
  }
 },
 "nbformat": 4,
 "nbformat_minor": 5
}
