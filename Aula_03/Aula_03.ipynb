{
 "cells": [
  {
   "cell_type": "code",
   "execution_count": 3,
   "id": "4ca9f1b2",
   "metadata": {},
   "outputs": [],
   "source": [
    "import numpy as np\n",
    "import glob"
   ]
  },
  {
   "cell_type": "markdown",
   "id": "27909472",
   "metadata": {},
   "source": [
    "# Problema 1: Portifolio de Investimentos\n",
    "\n",
    "## Dados:\n",
    " Série histórica de retornos de investimentos ao longo de 12 meses"
   ]
  },
  {
   "cell_type": "code",
   "execution_count": 24,
   "id": "cf834f50",
   "metadata": {},
   "outputs": [
    {
     "name": "stdout",
     "output_type": "stream",
     "text": [
      "\n",
      "============================================================\n",
      "ANÁLISE DE RISCO DE PORTFOLIO DE INVESTIMENTOS\n",
      "============================================================\n",
      "Retornos mensais (%) dos ativos:\n",
      "Mês      Ação A    Ação B    Ação C  Título D   Fundo E\n",
      "1           2.1      -1.5       3.2       0.8       1.2\n",
      "2           1.8       2.3      -0.5       0.9       1.1\n",
      "3          -0.5       1.8       2.1       0.7       0.9\n",
      "4           3.2      -2.1       1.8       0.8       1.3\n",
      "5           0.9       3.5      -1.2       0.6       1.0\n",
      "6           2.5       0.8       2.8       0.9       1.4\n",
      "7          -1.2       2.9       0.5       0.7       0.8\n",
      "8           1.6      -0.8       3.1       0.8       1.2\n",
      "9           2.8       1.5      -0.8       0.6       1.1\n",
      "10          0.3       2.7       1.9       0.9       1.3\n",
      "11          1.9      -1.3       2.4       0.7       0.9\n",
      "12          2.2       1.1       0.7       0.8       1.2\n"
     ]
    }
   ],
   "source": [
    "\"\"\"\n",
    "Análise de Risco de Portfolio de Investimentos\n",
    "\n",
    "Use normas e desvio padrão para analisar risco e retorno de investimentos.\n",
    "\"\"\"\n",
    "print(\"\\n\" + \"=\" * 60)\n",
    "print(\"ANÁLISE DE RISCO DE PORTFOLIO DE INVESTIMENTOS\")\n",
    "print(\"=\" * 60)\n",
    "\n",
    "# Retornos mensais (%) de 5 ativos durante 12 meses\n",
    "ativos = ['Ação A', 'Ação B', 'Ação C', 'Título D', 'Fundo E']\n",
    "\n",
    "retornos = np.array([\n",
    "    [2.1, -1.5, 3.2, 0.8, 1.2],   # Mês 1\n",
    "    [1.8, 2.3, -0.5, 0.9, 1.1],   # Mês 2\n",
    "    [-0.5, 1.8, 2.1, 0.7, 0.9],   # Mês 3\n",
    "    [3.2, -2.1, 1.8, 0.8, 1.3],   # Mês 4\n",
    "    [0.9, 3.5, -1.2, 0.6, 1.0],   # Mês 5\n",
    "    [2.5, 0.8, 2.8, 0.9, 1.4],    # Mês 6\n",
    "    [-1.2, 2.9, 0.5, 0.7, 0.8],   # Mês 7\n",
    "    [1.6, -0.8, 3.1, 0.8, 1.2],   # Mês 8\n",
    "    [2.8, 1.5, -0.8, 0.6, 1.1],   # Mês 9\n",
    "    [0.3, 2.7, 1.9, 0.9, 1.3],    # Mês 10\n",
    "    [1.9, -1.3, 2.4, 0.7, 0.9],   # Mês 11\n",
    "    [2.2, 1.1, 0.7, 0.8, 1.2]     # Mês 12\n",
    "])\n",
    "\n",
    "print(\"Retornos mensais (%) dos ativos:\")\n",
    "print(f\"{'Mês':<5}\", end=\"\")\n",
    "for ativo in ativos:\n",
    "    print(f\"{ativo:>10}\", end=\"\")\n",
    "print()\n",
    "   \n",
    "for i in range(12):\n",
    "    print(f\"{i+1:<5}\", end=\"\")\n",
    "    for j in range(5):\n",
    "        print(f\"{retornos[i,j]:>10.1f}\", end=\"\")\n",
    "    print()\n"
   ]
  },
  {
   "cell_type": "code",
   "execution_count": null,
   "id": "1e2900ce",
   "metadata": {},
   "outputs": [
    {
     "name": "stdout",
     "output_type": "stream",
     "text": [
      "\n",
      "a) Análise individual dos ativos:\n",
      "Ativo      Retorno Médio   Risco (Std)  Sharpe Ratio\n",
      "Ação A     1.47            1.283        1.143       \n",
      "Ação B     0.91            1.818        0.500       \n",
      "Ação C     1.33            1.485        0.898       \n",
      "Título D   0.77            0.103        7.462       \n",
      "Fundo E    1.12            0.177        6.303       \n"
     ]
    }
   ],
   "source": [
    "# a) Análise de retorno e risco individual\n",
    "print(f\"\\na) Análise individual dos ativos:\")\n",
    "print(f\"{'Ativo':<10} {'Retorno Médio':<15} {'Risco (Std)':<12} {'Sharpe Ratio':<12}\")\n",
    "\n",
    "retornos_medios = np.mean(retornos, axis=0)\n",
    "# feito na mão\n",
    "# restornos_medios = np.zeros(len(ativos))\n",
    "# for i, ativo in enumerate(ativos):\n",
    "#     mean_ativo = np.mean(retornos[:, i])\n",
    "#     retornos_medios[i] = mean_ativo\n",
    "riscos = np.std(retornos, axis=0)\n",
    "sharpe_ratios = retornos_medios / riscos\n",
    "\n",
    "for i, ativo in enumerate(ativos):\n",
    "    print(f\"{ativo:<10} {retornos_medios[i]:<15.2f} {riscos[i]:<12.3f} {sharpe_ratios[i]:<12.3f}\")"
   ]
  },
  {
   "cell_type": "markdown",
   "id": "53cd7760",
   "metadata": {},
   "source": [
    "### b) Análise de correlação usando produto interno\n",
    "- Normalizar os retornos (centrar na média)\n",
    "    - retornos_centrados = retornos - retornos_medios\n",
    "\n",
    "- Exercício: Calcular a matriz de correlação usando produto interno\n",
    "    - $ C_{ij} = <v_i, v_j> / (||v_i||\\cdot ||v_j||)$"
   ]
  },
  {
   "cell_type": "code",
   "execution_count": 32,
   "id": "94e2fe71",
   "metadata": {},
   "outputs": [
    {
     "name": "stdout",
     "output_type": "stream",
     "text": [
      "\n",
      "Matriz de correlação entre ativos:\n",
      "[[ 1.         -0.61661665  0.07756007  0.18116709  0.63646006]\n",
      " [-0.61661665  1.         -0.67592713 -0.1769571  -0.32639199]\n",
      " [ 0.07756007 -0.67592713  1.          0.46623199  0.34324012]\n",
      " [ 0.18116709 -0.1769571   0.46623199  1.          0.67146234]\n",
      " [ 0.63646006 -0.32639199  0.34324012  0.67146234  1.        ]]\n"
     ]
    }
   ],
   "source": [
    "# b)[v1 v2 v3 v4 v5]\n",
    "retornos_centrados = retornos - retornos_medios\n",
    "n_acoes = len(ativos)\n",
    "C = np.zeros((n_acoes, n_acoes))\n",
    "for i in range(n_acoes):\n",
    "    vi = retornos_centrados[:, i]\n",
    "    for j in range(i, n_acoes):\n",
    "        vj = retornos_centrados[:, j]\n",
    "        corr = np.dot(vi, vj) / (np.linalg.norm(vi) * np.linalg.norm(vj))\n",
    "        C[i, j] = corr\n",
    "        C[j, i] = corr\n",
    "# np.linalg.norm(v_i)\n",
    "\n",
    "print(f\"\\nMatriz de correlação entre ativos:\")\n",
    "print(C)"
   ]
  },
  {
   "cell_type": "code",
   "execution_count": 36,
   "id": "b35a91f7",
   "metadata": {},
   "outputs": [
    {
     "name": "stdout",
     "output_type": "stream",
     "text": [
      "\n",
      "c) Análise de diferentes portfolios:\n",
      "Portfolio    Retorno    Risco      Sharpe    \n",
      "Equilibrado  1.12       0.235      4.767     \n",
      "Conservador  0.98       0.164      5.950     \n",
      "Agressivo    1.26       0.348      3.617     \n"
     ]
    }
   ],
   "source": [
    "# c) Análise de portfolios\n",
    "print(f\"\\nc) Análise de diferentes portfolios:\")\n",
    "\n",
    "# Portfolio 1: Igualmente distribuído\n",
    "pesos1 = np.array([0.2, 0.2, 0.2, 0.2, 0.2])\n",
    "\n",
    "# Portfolio 2: Conservador (mais em títulos)\n",
    "pesos2 = np.array([0.1, 0.1, 0.1, 0.5, 0.2])\n",
    "\n",
    "# Portfolio 3: Agressivo (mais em ações)\n",
    "pesos3 = np.array([0.4, 0.3, 0.3, 0.0, 0.0])\n",
    "\n",
    "portfolios = [pesos1, pesos2, pesos3]\n",
    "nomes_portfolios = ['Equilibrado', 'Conservador', 'Agressivo']\n",
    "\n",
    "print(f\"{'Portfolio':<12} {'Retorno':<10} {'Risco':<10} {'Sharpe':<10}\")\n",
    "\n",
    "for i, (nome, pesos) in enumerate(zip(nomes_portfolios, portfolios)):\n",
    "    \n",
    "    # Retorno esperado do portfolio\n",
    "    retorno_medio_portfolio = np.dot(retornos_medios, pesos)\n",
    "    # [p1* ]\n",
    "    # Risco do portfolio (norma dos retornos ponderados centrados)\n",
    "    retornos_ponderados = np.dot(retornos, pesos)\n",
    "    risco_portfolio = np.std(retornos_ponderados)\n",
    "\n",
    "    # Sharpe ratio\n",
    "    sharpe_portfolio = retorno_medio_portfolio / risco_portfolio\n",
    "\n",
    "    print(f\"{nome:<12} {retorno_medio_portfolio:<10.2f} {risco_portfolio:<10.3f} {sharpe_portfolio:<10.3f}\")"
   ]
  },
  {
   "cell_type": "markdown",
   "id": "294cfd10",
   "metadata": {},
   "source": [
    "# Problema 2: Sistema de busca simples\n",
    "\n",
    "## Dados:\n",
    "- Lista de documentos ou páginas\n",
    "- texto de busca"
   ]
  },
  {
   "cell_type": "code",
   "execution_count": 5,
   "id": "aa4e844d",
   "metadata": {},
   "outputs": [
    {
     "name": "stdout",
     "output_type": "stream",
     "text": [
      "\n",
      "Leitura de arquivos de texto:\n",
      "Arquivos encontrados: 5\n",
      "Primeiro arquivo lido:\n",
      "A culinária é a arte de cozinhar,[1] (ver: artes mecânicas) ou seja, o acto de confeccionar alimento...\n"
     ]
    }
   ],
   "source": [
    "# Leitura dos arquivos de texto\n",
    "print(\"\\nLeitura de arquivos de texto:\")\n",
    "doc_dir = \"documentos\"\n",
    "arquivos = glob.glob(f\"{doc_dir}/*.txt\")\n",
    "docs = []\n",
    "file_names = [arquivo.split('/')[-1].replace('.txt', '') for arquivo in arquivos]\n",
    "for arquivo in arquivos:\n",
    "    with open(arquivo, 'r', encoding='utf-8') as f:\n",
    "        docs.append(f.read())\n",
    "\n",
    "# Exemplo de arquivos lidos\n",
    "print(f\"Arquivos encontrados: {len(docs)}\")\n",
    "print(\"Primeiro arquivo lido:\")\n",
    "print(docs[0][:100] + \"...\")  # Exibe os primeiros 100 caracteres do primeiro arquivo"
   ]
  },
  {
   "cell_type": "code",
   "execution_count": null,
   "id": "6e7fa67a",
   "metadata": {},
   "outputs": [
    {
     "name": "stdout",
     "output_type": "stream",
     "text": [
      "\n",
      "Matriz de características (documentos x termos): (5, 699)\n",
      "Termos encontrados:\n",
      "['vez' 'vezes' 'veículos' 'viajar' 'vida' 'virtuais' 'visto' 'voz'\n",
      " 'várias' 'vários' 'vôlei' 'waymo' 'web' 'xadrez' 'xxi' 'youtube' 'área'\n",
      " 'áreas' 'ética' 'óptico']\n",
      "0\n"
     ]
    }
   ],
   "source": [
    "from sklearn.feature_extraction.text import CountVectorizer\n",
    "from sklearn.metrics.pairwise import cosine_similarity\n",
    "# criação do vetor de características\n",
    "stopwords_pt = ['a', 'o', 'e', 'de', 'do', 'da', 'em', 'um', 'para', 'com', 'não', 'uma', 'os', 'no', 'se', 'na', 'por', 'mais', 'as', 'dos', 'como', 'mas', 'foi', 'ao', 'ele', 'das', 'tem', 'à', 'seu', 'sua', 'ou', 'ser', 'quando', 'muito', 'há', 'nos', 'já', 'está', 'eu', 'também', 'só', 'pelo', 'pela', 'até', 'isso', 'ela', 'entre', 'era', 'depois', 'sem', 'mesmo', 'aos', 'ter', 'seus', 'quem', 'nas', 'me', 'esse', 'eles', 'estão', 'você', 'tinha', 'foram', 'essa', 'num', 'nem', 'suas', 'meu', 'às', 'minha', 'têm', 'numa', 'pelos', 'elas', 'havia', 'seja', 'qual', 'será', 'nós', 'tenho', 'lhe', 'deles', 'essas', 'esses', 'pelas', 'este', 'dele', 'tu', 'te', 'vocês', 'vos', 'lhes', 'meus', 'minhas', 'teu', 'tua', 'teus', 'tuas', 'nosso', 'nossa', 'nossos', 'nossas', 'dela', 'delas', 'esta', 'estes', 'estas', 'aquele', 'aquela', 'aqueles', 'aquelas', 'isto', 'aquilo', 'estou', 'está', 'estamos', 'estão', 'estive', 'esteve', 'estivemos', 'estiveram', 'estava', 'estávamos', 'estavam', 'estivera', 'estivéramos', 'esteja', 'estejamos', 'estejam', 'estivesse', 'estivéssemos', 'estivessem', 'estiver', 'estivermos', 'estiverem', 'hei', 'há', 'havemos', 'hão', 'houve', 'houvemos', 'houveram', 'houvera', 'houvéramos', 'haja', 'hajamos', 'hajam', 'houvesse', 'houvéssemos', 'houvessem', 'houver', 'houvermos', 'houverem', 'houverei', 'houverá', 'houveremos', 'houverão', 'houveria', 'houveríamos', 'houveriam', 'sou', 'somos', 'são', 'era', 'éramos', 'eram', 'fui', 'foi', 'fomos', 'foram', 'fora', 'fôramos', 'seja', 'sejamos', 'sejam', 'fosse', 'fôssemos', 'fossem', 'for', 'formos', 'forem', 'serei', 'será', 'seremos', 'serão', 'seria', 'seríamos', 'seriam', 'tenho', 'tem', 'temos', 'tém', 'tinha', 'tínhamos', 'tinham', 'tive', 'teve', 'tivemos', 'tiveram', 'tivera', 'tivéramos', 'tenha', 'tenhamos', 'tenham', 'tivesse', 'tivéssemos', 'tivessem', 'tiver', 'tivermos', 'tiverem', 'terei', 'terá', 'teremos', 'terão', 'teria', 'teríamos', 'teriam']\n",
    "vectorizer = CountVectorizer(stop_words=stopwords_pt)\n",
    "vectorizer.fit(docs)\n",
    "X = vectorizer.transform(docs)\n",
    "\n",
    "# Exibe o tamanho da matriz de características\n",
    "print(f\"\\nMatriz de características (documentos x termos): {X.shape}\")\n",
    "print(\"Termos encontrados:\")\n",
    "print(vectorizer.get_feature_names_out()[-20:])  # Exibe os primeiros 20 termos\n",
    "print(X[4,-20])  # Exibe os primeiros 20 termos"
   ]
  },
  {
   "cell_type": "code",
   "execution_count": 12,
   "id": "71f14ac8",
   "metadata": {},
   "outputs": [
    {
     "name": "stdout",
     "output_type": "stream",
     "text": [
      "\n",
      "Exemplo de busca: Buscar documento com maior semelhança de coseno\n",
      "Documento mais similar encontrado: documentos\\esporte\n",
      "Conteúdo do documento mais similar:\n",
      "O esporte no Brasil é praticado em muitas modalidades e é organizado por confederações nacionais de esportes, sendo a principal o Comitê Olímpico Brasileiro. Os brasileiros estão fortemente envolvidos...\n"
     ]
    }
   ],
   "source": [
    "# exemplo de busca: Buscar documento com maior semelhança de coseno\n",
    "print(\"\\nExemplo de busca: Buscar documento com maior semelhança de coseno\")\n",
    "texto_busca = \"Qual melhor jogador de futebol\"\n",
    "X_busca = vectorizer.transform([texto_busca])\n",
    "\n",
    "similaridades = cosine_similarity(X_busca, X)\n",
    "indice_mais_similar = np.argmax(similaridades)\n",
    "\n",
    "print(f\"Documento mais similar encontrado: {file_names[indice_mais_similar]}\")\n",
    "print(f\"Conteúdo do documento mais similar:\\n{docs[indice_mais_similar][:200]}...\")  # Exibe os primeiros 200 caracteres\n"
   ]
  },
  {
   "cell_type": "code",
   "execution_count": 42,
   "id": "139dd577",
   "metadata": {},
   "outputs": [
    {
     "name": "stdout",
     "output_type": "stream",
     "text": [
      "\n",
      "Exemplo de busca: Buscar documento com menor distancia euclidiana\n",
      "Documento mais similar encontrado: documentos\\medicina\n",
      "Conteúdo do documento mais similar:\n",
      "Medicina é uma das muitas áreas do conhecimento ligada à manutenção e restauração da saúde. Ela trabalha, num sentido amplo, com a prevenção e cura das doenças humanas e animais num contexto médico. L...\n"
     ]
    }
   ],
   "source": [
    "# Exercicio: mude o critério de busca para encontrar documentos que estejam mais proximos pela distancia euclidiana\n",
    "\n",
    "# exemplo de busca: Buscar documento com maior semelhança de coseno\n",
    "print(\"\\nExemplo de busca: Buscar documento com menor distancia euclidiana\")\n",
    "texto_busca = \"Qual a comida mais popular do brasil\"\n",
    "X_busca = vectorizer.transform([texto_busca])\n",
    "\n",
    "similaridades = np.linalg.norm(X.toarray() - X_busca.toarray(), axis=1)\n",
    "indice_mais_similar = np.argmin(similaridades)\n",
    "\n",
    "print(f\"Documento mais similar encontrado: {file_names[indice_mais_similar]}\")\n",
    "print(f\"Conteúdo do documento mais similar:\\n{docs[indice_mais_similar][:200]}...\")  # Exibe os primeiros 200 caracteres\n"
   ]
  },
  {
   "cell_type": "code",
   "execution_count": 51,
   "id": "85f8a964",
   "metadata": {},
   "outputs": [
    {
     "name": "stdout",
     "output_type": "stream",
     "text": [
      "['area', 'quartos', 'banheiros', 'andares']\n",
      "[[100.   1.   1.   1.]\n",
      " [120.   3.   2.   2.]\n",
      " [ 60.   1.   1.   1.]\n",
      " [150.   4.   3.   2.]\n",
      " [100.   3.   2.   1.]]\n",
      "\n",
      "Dados das casas com área em pés quadrados:\n",
      "['area', 'quartos', 'banheiros', 'andares']\n",
      "[[1.07640e+03 1.00000e+00 1.00000e+00 1.00000e+00]\n",
      " [1.29168e+03 3.00000e+00 2.00000e+00 2.00000e+00]\n",
      " [6.45840e+02 1.00000e+00 1.00000e+00 1.00000e+00]\n",
      " [1.61460e+03 4.00000e+00 3.00000e+00 2.00000e+00]\n",
      " [1.07640e+03 3.00000e+00 2.00000e+00 1.00000e+00]]\n"
     ]
    }
   ],
   "source": [
    "# Exemplo de dataset de casas usando numpy\n",
    "dados_casas = np.array([\n",
    "    [100., 1, 1, 1],\n",
    "    [120, 3, 2, 2],\n",
    "    [60, 1, 1, 1],\n",
    "    [150, 4, 3, 2],\n",
    "    [100, 3, 2, 1]\n",
    "])\n",
    "\n",
    "colunas = ['area', 'quartos', 'banheiros', 'andares']\n",
    "print(colunas)\n",
    "print(dados_casas)\n",
    "# Converte a área de metros quadrados para pés quadrados (1 m² ≈ 10.764 ft²)\n",
    "dados_casas_pes = dados_casas.copy()\n",
    "dados_casas_pes[:, 0] = np.round(dados_casas[:, 0] * 10.764, 2)\n",
    "\n",
    "print(\"\\nDados das casas com área em pés quadrados:\")\n",
    "print(colunas)\n",
    "print(dados_casas_pes)"
   ]
  },
  {
   "cell_type": "code",
   "execution_count": 52,
   "id": "c581c541",
   "metadata": {},
   "outputs": [
    {
     "name": "stdout",
     "output_type": "stream",
     "text": [
      "\n",
      "Matriz de semelhança entre casas:\n",
      "[[ 0.         20.14944168 40.         50.13980455  2.23606798]\n",
      " [20.14944168  0.         60.04997918 30.03331484 20.02498439]\n",
      " [40.         60.04997918  0.         90.0777442  40.06245125]\n",
      " [50.13980455 30.03331484 90.0777442   0.         50.02999101]\n",
      " [ 2.23606798 20.02498439 40.06245125 50.02999101  0.        ]]\n"
     ]
    }
   ],
   "source": [
    "semelhancas = np.zeros((len(dados_casas), len(dados_casas)))\n",
    "\n",
    "for i, c1 in enumerate(dados_casas):\n",
    "    for j, c2 in enumerate(dados_casas):\n",
    "        semelhancas[i,j] = np.linalg.norm(c1 - c2)\n",
    "print(\"\\nMatriz de semelhança entre casas:\")\n",
    "print(semelhancas)\n"
   ]
  },
  {
   "cell_type": "code",
   "execution_count": 46,
   "id": "89a73efd",
   "metadata": {},
   "outputs": [
    {
     "name": "stdout",
     "output_type": "stream",
     "text": [
      "\n",
      "Matriz de semelhança entre casas:\n",
      "[[  0.         215.01395304 431.         538.013011     2.23606798]\n",
      " [215.01395304   0.         646.00464395 323.00309596 215.00232557]\n",
      " [431.         646.00464395   0.         969.00722392 431.00580043]\n",
      " [538.013011   323.00309596 969.00722392   0.         538.0027881 ]\n",
      " [  2.23606798 215.00232557 431.00580043 538.0027881    0.        ]]\n"
     ]
    }
   ],
   "source": [
    "semelhancas_pes = np.zeros((len(dados_casas), len(dados_casas)))\n",
    "\n",
    "for i, c1 in enumerate(dados_casas_pes):\n",
    "    for j, c2 in enumerate(dados_casas_pes):\n",
    "        semelhancas[i,j] = np.linalg.norm(c1 - c2)\n",
    "print(\"\\nMatriz de semelhança entre casas:\")\n",
    "print(semelhancas)"
   ]
  },
  {
   "cell_type": "code",
   "execution_count": 53,
   "id": "ae91ca5e",
   "metadata": {},
   "outputs": [
    {
     "name": "stdout",
     "output_type": "stream",
     "text": [
      "\n",
      "Dados das casas com área em pés quadrados:\n",
      "['area', 'quartos', 'banheiros', 'andares']\n",
      "[[100.   1.   1.   1.]\n",
      " [120.   3.   2.   2.]\n",
      " [ 60.   1.   1.   1.]\n",
      " [150.   4.   3.   2.]\n",
      " [100.   3.   2.   1.]]\n",
      "(5, 4)\n",
      "\n",
      "Dados das casas com área:\n",
      "['area', 'quartos', 'banheiros', 'andares']\n",
      "[[-0.20412415 -1.16666667 -1.06904497 -0.81649658]\n",
      " [ 0.47628967  0.5         0.26726124  1.22474487]\n",
      " [-1.56495178 -1.16666667 -1.06904497 -0.81649658]\n",
      " [ 1.4969104   1.33333333  1.60356745  1.22474487]\n",
      " [-0.20412415  0.5         0.26726124 -0.81649658]]\n"
     ]
    }
   ],
   "source": [
    "print(\"\\nDados das casas com área em pés quadrados:\")\n",
    "print(colunas)\n",
    "print(dados_casas)\n",
    "\n",
    "def zscore(data):\n",
    "    media = np.mean(data)\n",
    "    desvio = np.std(data)\n",
    "    return (data - media) / desvio\n",
    "\n",
    "\n",
    "casas_zscore = np.zeros_like(dados_casas)\n",
    "print(dados_casas.shape)\n",
    "for i in range(dados_casas.shape[1]):\n",
    "    casas_zscore[:, i] = zscore(dados_casas[:, i])\n",
    "\n",
    "print(\"\\nDados das casas com área:\")\n",
    "print(colunas)\n",
    "print(casas_zscore)"
   ]
  },
  {
   "cell_type": "code",
   "execution_count": 54,
   "id": "68eb79dc",
   "metadata": {},
   "outputs": [
    {
     "name": "stdout",
     "output_type": "stream",
     "text": [
      "\n",
      "Dados das casas com área em pés quadrados:\n",
      "['area', 'quartos', 'banheiros', 'andares']\n",
      "[[1.07640e+03 1.00000e+00 1.00000e+00 1.00000e+00]\n",
      " [1.29168e+03 3.00000e+00 2.00000e+00 2.00000e+00]\n",
      " [6.45840e+02 1.00000e+00 1.00000e+00 1.00000e+00]\n",
      " [1.61460e+03 4.00000e+00 3.00000e+00 2.00000e+00]\n",
      " [1.07640e+03 3.00000e+00 2.00000e+00 1.00000e+00]]\n",
      "(5, 4)\n",
      "\n",
      "Dados das casas com área:\n",
      "['area', 'quartos', 'banheiros', 'andares']\n",
      "[[-0.20412415 -1.16666667 -1.06904497 -0.81649658]\n",
      " [ 0.47628967  0.5         0.26726124  1.22474487]\n",
      " [-1.56495178 -1.16666667 -1.06904497 -0.81649658]\n",
      " [ 1.4969104   1.33333333  1.60356745  1.22474487]\n",
      " [-0.20412415  0.5         0.26726124 -0.81649658]]\n"
     ]
    }
   ],
   "source": [
    "print(\"\\nDados das casas com área em pés quadrados:\")\n",
    "print(colunas)\n",
    "print(dados_casas_pes)\n",
    "\n",
    "\n",
    "\n",
    "casas_zscore_pes = np.zeros_like(dados_casas_pes)\n",
    "print(dados_casas_pes.shape)\n",
    "for i in range(dados_casas_pes.shape[1]):\n",
    "    casas_zscore_pes[:, i] = zscore(dados_casas_pes[:, i])\n",
    "\n",
    "print(\"\\nDados das casas com área:\")\n",
    "print(colunas)\n",
    "print(casas_zscore_pes)"
   ]
  },
  {
   "cell_type": "code",
   "execution_count": 55,
   "id": "bab2c976",
   "metadata": {},
   "outputs": [
    {
     "name": "stdout",
     "output_type": "stream",
     "text": [
      "[-0.20412415  0.47628967 -1.56495178  1.4969104  -0.20412415]\n",
      "[-0.20412415  0.47628967 -1.56495178  1.4969104  -0.20412415]\n"
     ]
    }
   ],
   "source": [
    "print(casas_zscore[:,0])\n",
    "print(casas_zscore_pes[:,0])"
   ]
  }
 ],
 "metadata": {
  "kernelspec": {
   "display_name": "linalg_env",
   "language": "python",
   "name": "python3"
  },
  "language_info": {
   "codemirror_mode": {
    "name": "ipython",
    "version": 3
   },
   "file_extension": ".py",
   "mimetype": "text/x-python",
   "name": "python",
   "nbconvert_exporter": "python",
   "pygments_lexer": "ipython3",
   "version": "3.13.5"
  }
 },
 "nbformat": 4,
 "nbformat_minor": 5
}
