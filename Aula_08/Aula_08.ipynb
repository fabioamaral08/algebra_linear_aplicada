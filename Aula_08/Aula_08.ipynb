{
 "cells": [
  {
   "cell_type": "code",
   "execution_count": 17,
   "id": "a2a86cb3",
   "metadata": {},
   "outputs": [],
   "source": [
    "import numpy as np\n",
    "import numpy.linalg as la\n",
    "# import scipy.linalg as la\n",
    "\n",
    "import matplotlib.pyplot as plt"
   ]
  },
  {
   "cell_type": "markdown",
   "id": "25f2a8e0",
   "metadata": {},
   "source": [
    "## Resolver Sistemas Lineares\n",
    "\n",
    "Ax = b"
   ]
  },
  {
   "cell_type": "code",
   "execution_count": 6,
   "id": "9c9a31f6",
   "metadata": {},
   "outputs": [
    {
     "name": "stdout",
     "output_type": "stream",
     "text": [
      "[[2 1 1]\n",
      " [2 0 2]\n",
      " [4 3 4]]\n",
      "[[-1]\n",
      " [ 1]\n",
      " [ 1]]\n"
     ]
    }
   ],
   "source": [
    "A = np.array([[2,1,1],\n",
    "              [2,0,2],\n",
    "              [4,3,4]])\n",
    "b = np.array([[-1],\n",
    "              [1],\n",
    "              [1]])\n",
    "\n",
    "print(A)\n",
    "print(b)"
   ]
  },
  {
   "cell_type": "code",
   "execution_count": 3,
   "id": "950f5c60",
   "metadata": {},
   "outputs": [
    {
     "name": "stdout",
     "output_type": "stream",
     "text": [
      "[[-1.16666667]\n",
      " [-0.33333333]\n",
      " [ 1.66666667]]\n",
      "2.220446049250313e-16\n"
     ]
    }
   ],
   "source": [
    "x = la.solve(A,b)\n",
    "print(x)\n",
    "\n",
    "# Erro numérico:\n",
    "r = la.norm(A@x - b)\n",
    "print(r)"
   ]
  },
  {
   "cell_type": "code",
   "execution_count": 11,
   "id": "37d1c4eb",
   "metadata": {},
   "outputs": [
    {
     "name": "stdout",
     "output_type": "stream",
     "text": [
      "2\n",
      "-4.00000000000002e-15\n",
      "0.0\n"
     ]
    }
   ],
   "source": [
    "A = np.array([\n",
    "    [1.,2,4],\n",
    "    [2, 4,6],\n",
    "    [1e-15,0,0]\n",
    "])\n",
    "print(la.matrix_rank(A))\n",
    "print(la.det(A))\n",
    "x = la.solve(A,b)\n",
    "\n",
    "# Erro numérico:\n",
    "r = la.norm(A@x - b)\n",
    "print(r)"
   ]
  },
  {
   "cell_type": "markdown",
   "id": "b186af15",
   "metadata": {},
   "source": [
    "Solução exata:\n",
    "$$\n",
    "\\mathbf{x} = \\left[ \\begin{array}{r} -7/6 \\\\-1/3 \\\\ 5/3 \\end{array} \\right]\n",
    "$$\n"
   ]
  },
  {
   "cell_type": "markdown",
   "id": "c53ef1b4",
   "metadata": {},
   "source": [
    "# Exemplo: Circuito Elétrico em Paralelo\n",
    "\n",
    "![Rede de Resistores](data/circuit.png)\n",
    "\n",
    "O problema é encontrar as correntes $i_1, i_2,..., i_N $\n",
    "\n",
    "A solução é dada por: $A i = b$\n",
    "\n",
    "onde:\n",
    "\n",
    "$$\n",
    "A = \n",
    "\\left[\n",
    "\\begin{array}{cccccccc}\n",
    "2R & -R & 0 & 0 & \\cdots & 0 & 0 & 0 \\\\\n",
    "-R & 2R & -R & 0 & & 0 & 0  & 0 \\\\\n",
    "0 & -R & 2R & -R & \\cdots & 0 & 0 & 0 \\\\\n",
    "\\vdots &  & \\vdots &  & \\ddots & & \\vdots & \\\\\n",
    "0 & 0 & 0 & 0 & \\cdots & -R & 2R & -R \\\\\n",
    "0 & 0 & 0 & 0 & \\cdots & 0 & -R & 2R \\\\\n",
    "\\end{array}\n",
    "\\right]\n",
    "\\hspace{10mm}\n",
    "\\mathbf{b} = \\left[ \\begin{array}{r} V \\\\ \\vdots \\\\ V \\end{array} \\right]\n",
    "$$"
   ]
  },
  {
   "cell_type": "code",
   "execution_count": 15,
   "id": "3680ef2c",
   "metadata": {},
   "outputs": [
    {
     "name": "stdout",
     "output_type": "stream",
     "text": [
      "(10, 10)\n",
      "(10, 10)\n",
      "[[ 40 -20   0   0   0   0   0   0   0   0]\n",
      " [-20  40 -20   0   0   0   0   0   0   0]\n",
      " [  0 -20  40 -20   0   0   0   0   0   0]\n",
      " [  0   0 -20  40 -20   0   0   0   0   0]\n",
      " [  0   0   0 -20  40 -20   0   0   0   0]\n",
      " [  0   0   0   0 -20  40 -20   0   0   0]\n",
      " [  0   0   0   0   0 -20  40 -20   0   0]\n",
      " [  0   0   0   0   0   0 -20  40 -20   0]\n",
      " [  0   0   0   0   0   0   0 -20  40 -20]\n",
      " [  0   0   0   0   0   0   0   0 -20  40]]\n",
      "[27.5 49.5 66.  77.  82.5 82.5 77.  66.  49.5 27.5]\n"
     ]
    }
   ],
   "source": [
    "N = 10\n",
    "R = 20\n",
    "V = 110\n",
    "\n",
    "b = np.full(N, V)\n",
    "\n",
    "A_1 = np.diag(np.full(N, 2*R))\n",
    "A_2 = np.diag(np.full(N-1, -R),1)\n",
    "\n",
    "print(A_1.shape)\n",
    "print(A_2.shape)\n",
    "\n",
    "A = A_1 + A_2 + A_2.T\n",
    "\n",
    "print(A)\n",
    "\n",
    "i = la.solve(A, b)\n",
    "print(i)"
   ]
  },
  {
   "cell_type": "code",
   "execution_count": 19,
   "id": "5b649a18",
   "metadata": {},
   "outputs": [
    {
     "data": {
      "text/plain": [
       "Text(0, 0.5, '$I_i$')"
      ]
     },
     "execution_count": 19,
     "metadata": {},
     "output_type": "execute_result"
    },
    {
     "data": {
      "image/png": "[encoded data removed]",
      "text/plain": [
       "<Figure size 640x480 with 1 Axes>"
      ]
     },
     "metadata": {},
     "output_type": "display_data"
    }
   ],
   "source": [
    "plt.plot(i, '.')\n",
    "plt.xlabel(\"Indicce da corrente i\")\n",
    "plt.ylabel('$I_i$')"
   ]
  },
  {
   "cell_type": "markdown",
   "id": "6e05d2b6",
   "metadata": {},
   "source": [
    "## Mudança de Base\n",
    "\n",
    "Sejam duas bases B e C em um espaço vetorial. Queremos encontrar a matriz [A]ᶜᴮ que transforma as coordenadas de um vetor na base C para as coordenadas na base B.\n",
    "\n",
    "[v]ᴮ = [A]ᶜᴮ [v]ᶜ\n",
    "\n",
    "Para construir essa matriz, precisamos expressar cada vetor da base C como uma combinação linear dos vetores da base B. Cada uma dessas combinações lineares é um sistema linear a ser resolvido.\n",
    "\n"
   ]
  },
  {
   "cell_type": "markdown",
   "id": "114f4c1d",
   "metadata": {},
   "source": [
    "x = a_1 * b_1 + a_2 * b_2 + ... + a_n * b_n (na base B)\n",
    "x = d_1 * c_1 + d_2 * c_2 + ... + d_n * c_n (na base C)\n",
    "\n",
    "a = [a_1, a_2, ..., a_n]ᵀ -> x na base B\n",
    "d = [d_1, d_2, ..., d_n]ᵀ -> x na base C"
   ]
  },
  {
   "cell_type": "code",
   "execution_count": null,
   "id": "830ca5c1",
   "metadata": {},
   "outputs": [],
   "source": [
    "d = X_bc @a\n",
    "\n",
    "C = [c_1.T, c_2.T, .., c_n.T]\n",
    "\n",
    "b_i = C @ x_i"
   ]
  },
  {
   "cell_type": "code",
   "execution_count": 36,
   "id": "21411009",
   "metadata": {},
   "outputs": [],
   "source": [
    "def mb(B:list, C:list):\n",
    "    C_mat = np.vstack(C).T\n",
    "    X = []\n",
    "    for b_i in B:\n",
    "        x_i = la.solve(C_mat, b_i)\n",
    "        X.append(x_i)\n",
    "\n",
    "    X = np.vstack(X).T\n",
    "    return X"
   ]
  },
  {
   "cell_type": "code",
   "execution_count": 28,
   "id": "10a636ae",
   "metadata": {},
   "outputs": [],
   "source": [
    "def get_mat_MB(B,C):\n",
    "    C_mat = np.vstack(C).T\n",
    "    X = []\n",
    "\n",
    "    for b in B:\n",
    "        xi = la.solve(C_mat,b)\n",
    "        X.append(xi)\n",
    "    return np.vstack(X).T"
   ]
  },
  {
   "cell_type": "code",
   "execution_count": 43,
   "id": "59bb26b6",
   "metadata": {},
   "outputs": [
    {
     "name": "stdout",
     "output_type": "stream",
     "text": [
      "[[ 3.  2.]\n",
      " [-2. -1.]]\n",
      "[[-1. -2.]\n",
      " [ 2.  3.]]\n",
      "[ 7. -4.]\n",
      "[1. 2.]\n",
      "[[ 1.0000000e+00 -8.8817842e-16]\n",
      " [-4.4408921e-16  1.0000000e+00]]\n"
     ]
    }
   ],
   "source": [
    "# Definindo as bases B e C em R^2\n",
    "# Base B (colunas da matriz A)\n",
    "B_vec1 = np.array([1., 2])\n",
    "B_vec2 = np.array([3., 4])\n",
    "\n",
    "B = [B_vec1, B_vec2]\n",
    "\n",
    "# Base C (vetores que queremos escrever em termos da base B)\n",
    "C_vec1 = np.array([5., 6])\n",
    "C_vec2 = np.array([7, 8])\n",
    "\n",
    "C = [C_vec1, C_vec2]\n",
    "\n",
    "A_bc = mb(B,C)\n",
    "A_cb = mb(C,B)\n",
    "print(A_bc)\n",
    "print(A_cb)\n",
    "\n",
    "x = B_vec1\n",
    "\n",
    "x_c = A_bc @ x\n",
    "print(x_c)\n",
    "\n",
    "x_b = A_cb @ A_bc @ x\n",
    "\n",
    "print(x_b)\n",
    "print(A_bc@ A_cb)"
   ]
  },
  {
   "cell_type": "code",
   "execution_count": null,
   "id": "d160e786",
   "metadata": {},
   "outputs": [
    {
     "name": "stdout",
     "output_type": "stream",
     "text": [
      "[[-1. -2.]\n",
      " [ 2.  3.]]\n"
     ]
    }
   ],
   "source": [
    "B_mat = np.stack(B).T\n",
    "C_mat = np.stack(C).T\n",
    "\n",
    "A_bc = la.inv(B_mat)@C_mat # B^-1 C\n",
    "print(A_bc)"
   ]
  },
  {
   "cell_type": "markdown",
   "id": "4519c9b1",
   "metadata": {},
   "source": [
    "## Matriz de transformação linear em diferentes bases:\n",
    "\n",
    "Seja T uma transformação linear de um espaço vetorial V para U. Sejam $B_1$ e $B_2$ bases de V, e $C_1$ e $C_2$ bases de U. Seja [T]ᴮ¹ᶜ¹ a matriz de T em relação às bases $B_1$ e $C_1$, e [T]ᴮ²ᶜ² a matriz de T em relação às bases $B_2$ e $C_2$. A relação entre essas matrizes é dada por:\n",
    "\n",
    "$[T]ᴮ²ᶜ² = Q^{-1} [T]ᴮ¹ᶜ¹ P$\n",
    "\n",
    "onde P é a matriz de mudança de base de B_2 para B_1, e Q é a matriz de mudança de base de C_1 para C_2."
   ]
  },
  {
   "cell_type": "code",
   "execution_count": null,
   "id": "046ba245",
   "metadata": {},
   "outputs": [],
   "source": []
  }
 ],
 "metadata": {
  "kernelspec": {
   "display_name": "linalg_env",
   "language": "python",
   "name": "python3"
  },
  "language_info": {
   "codemirror_mode": {
    "name": "ipython",
    "version": 3
   },
   "file_extension": ".py",
   "mimetype": "text/x-python",
   "name": "python",
   "nbconvert_exporter": "python",
   "pygments_lexer": "ipython3",
   "version": "3.13.5"
  }
 },
 "nbformat": 4,
 "nbformat_minor": 5
}
