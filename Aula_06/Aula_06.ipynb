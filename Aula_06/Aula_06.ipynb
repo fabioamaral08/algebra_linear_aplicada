{
 "cells": [
  {
   "cell_type": "code",
   "execution_count": 1,
   "id": "30deca02",
   "metadata": {},
   "outputs": [],
   "source": [
    "import numpy as np\n",
    "import matplotlib.pyplot as plt\n",
    "from matplotlib.patches import Arc"
   ]
  },
  {
   "cell_type": "markdown",
   "id": "90bad466",
   "metadata": {},
   "source": [
    "# Introdução a matrizes\n",
    "\n",
    "Matrizes são representadas como vetores com mais dimensões (shape)"
   ]
  },
  {
   "cell_type": "code",
   "execution_count": 14,
   "id": "e54de63e",
   "metadata": {},
   "outputs": [
    {
     "name": "stdout",
     "output_type": "stream",
     "text": [
      "(7, 7)\n",
      "[ 0  1  2  3  4  5  6  7  8  9 10 11]\n",
      "[[ 0  1  2]\n",
      " [ 3  4  5]\n",
      " [ 6  7  8]\n",
      " [ 9 10 11]]\n",
      "Matriz M\n",
      "[[ 1  2  3]\n",
      " [ 4  5  6]\n",
      " [ 7  8  9]\n",
      " [10 11 12]]\n",
      "Usando transposição: M.T\n",
      "[[ 1  4  7 10]\n",
      " [ 2  5  8 11]\n",
      " [ 3  6  9 12]]\n"
     ]
    }
   ],
   "source": [
    "M_zeros = np.zeros((3,3)) # Matriz de zeros\n",
    "M_ones = np.ones((3,3)) # Matriz de 1\n",
    "M_full = np.full((3,3),7) # Matriz todas com 7\n",
    "M_rand = np.random.rand(3,3) # Matriz com valores aleatórios\n",
    "M = np.array([ # Matriz 4x3\n",
    "    [1, 2, 3],\n",
    "    [4, 5, 6],\n",
    "    [7, 8, 9,],\n",
    "    [10, 11, 12]\n",
    "]) \n",
    "I = np.eye(4) # Matriz identidade 4x4\n",
    "D = np.diag([1,2,3,4,5],-2) # Matriz diagonal\n",
    "print(D.shape)\n",
    "# print(D)\n",
    "\n",
    "D_rand = np.diag(M_rand, 1)\n",
    "# print(M_rand)\n",
    "# print(D_rand)\n",
    "# Transformar array em matriz (reshape)\n",
    "vetor = np.arange(12)\n",
    "M_reshape = vetor.reshape((4,3))\n",
    "print(vetor)\n",
    "print(M_reshape)\n",
    "\n",
    "# Transposição\n",
    "print('Matriz M')\n",
    "print(M)\n",
    "print('Usando transposição: M.T')\n",
    "print(M.T)"
   ]
  },
  {
   "cell_type": "markdown",
   "id": "8fd5e336",
   "metadata": {},
   "source": [
    "## Operações com matrizes\n",
    "\n",
    "Para operar matrizes, as dimensões (shape) devem ser compatíveis"
   ]
  },
  {
   "cell_type": "code",
   "execution_count": null,
   "id": "bd819b75",
   "metadata": {},
   "outputs": [
    {
     "name": "stdout",
     "output_type": "stream",
     "text": [
      "M_random + M_ones\n",
      "[[1.24102525 1.30639611 1.70608698]\n",
      " [1.49199408 1.42008691 1.08738182]\n",
      " [1.56579174 1.94362415 1.57079896]]\n",
      "==================================================\n",
      "M_random * M_ones\n",
      "[[0.24102525 0.30639611 0.70608698]\n",
      " [0.49199408 0.42008691 0.08738182]\n",
      " [0.56579174 0.94362415 0.57079896]]\n",
      "==================================================\n",
      "M @ M_ones\n",
      "[[ 6.  6.  6.]\n",
      " [15. 15. 15.]\n",
      " [24. 24. 24.]\n",
      " [33. 33. 33.]]\n",
      "==================================================\n",
      "M_vetor + M_ones\n",
      "[[2. 3. 4.]\n",
      " [2. 3. 4.]\n",
      " [2. 3. 4.]]\n",
      "==================================================\n",
      "Primeira Linha\n",
      "[1 2 3]\n",
      "==================================================\n",
      "Primeira coluna\n",
      "[ 1  4  7 10]\n",
      "==================================================\n",
      "Elemento [1, 2]\n",
      "6\n",
      "==================================================\n",
      "Usando slicing: M[0, 1:3]\n",
      "[2 3]\n",
      "==================================================\n"
     ]
    }
   ],
   "source": [
    "# Soma de Matrizes\n",
    "M_soma = M_rand + M_ones # ambas MxN\n",
    "print('M_random + M_ones')\n",
    "print(M_soma)\n",
    "print('='*50)\n",
    "\n",
    "M_elem = M_rand * M_ones # ambas mesmo shape\n",
    "print('M_random * M_ones')\n",
    "print(M_elem)\n",
    "print('='*50)\n",
    "\n",
    "# Multiplicação de Matrizes\n",
    "M_mult = M @ M_ones # PxN e NxQ --> PxQ\n",
    "print('M @ M_ones')\n",
    "print(M_mult)\n",
    "print('='*50)\n",
    "\n",
    "\n",
    "\n",
    "# Operação com vetores\n",
    "M_vetor = np.array([1, 2, 3])\n",
    "M_vetor_soma = M_vetor + M_ones # A ultima dimensão deve ser igual a dimensão do vetor\n",
    "print('M_vetor + M_ones')\n",
    "print(M_vetor_soma)\n",
    "print('='*50)\n",
    "\n",
    "# Acessar elementos\n",
    "print('Primeira Linha')\n",
    "print(M[0, :])\n",
    "print('='*50)\n",
    "\n",
    "print('Primeira coluna')\n",
    "print(M[:, 0])\n",
    "print('='*50)\n",
    "\n",
    "print('Elemento [1, 2]')\n",
    "print(M[1, 2])\n",
    "print('='*50)\n",
    "\n",
    "print('Usando slicing: M[0, 1:3]')\n",
    "print(M[0, 1:3])\n",
    "print('='*50)\n"
   ]
  },
  {
   "cell_type": "markdown",
   "id": "81291d6d",
   "metadata": {},
   "source": [
    "## Visualização de operação com matrizes\n",
    "\n",
    "Matriz rotação:\n",
    "$$\n",
    "\\begin{bmatrix}\n",
    "\\cos(\\theta) & -\\sin(\\theta) \\\\\n",
    "\\sin(\\theta) & \\cos(\\theta)\n",
    "\\end{bmatrix}\n",
    "$$"
   ]
  },
  {
   "cell_type": "code",
   "execution_count": 20,
   "id": "cfc7eee2",
   "metadata": {},
   "outputs": [
    {
     "name": "stdout",
     "output_type": "stream",
     "text": [
      "[-3.53553391 -2.12132034]\n",
      "Ângulo entre vetores: 45.0°\n"
     ]
    },
    {
     "data": {
      "text/plain": [
       "<matplotlib.legend.Legend at 0x1c59a791590>"
      ]
     },
     "execution_count": 20,
     "metadata": {},
     "output_type": "execute_result"
    },
    {
     "data": {
      "image/png": "[encoded data removed]",
      "text/plain": [
       "<Figure size 640x480 with 1 Axes>"
      ]
     },
     "metadata": {},
     "output_type": "display_data"
    }
   ],
   "source": [
    "def matriz_rotacao(angulo, rad = False):\n",
    "    if not rad:\n",
    "        angulo = np.deg2rad(angulo)\n",
    "    return np.array([\n",
    "        [np.cos(angulo), -np.sin(angulo)],\n",
    "        [np.sin(angulo), np.cos(angulo)]\n",
    "    ])\n",
    "\n",
    "\n",
    "vet = np.array([-4,1])\n",
    "M_rot = matriz_rotacao(45)\n",
    "vet_rot = M_rot @ vet\n",
    "print(vet_rot)\n",
    "# Verifica o angulo:\n",
    "cos = vet.T @ vet_rot / (np.linalg.norm(vet) * np.linalg.norm(vet_rot))\n",
    "ang_rad = np.arccos(cos)\n",
    "ang = np.degrees(ang_rad)\n",
    "print(f'Ângulo entre vetores: {ang}°')\n",
    "\n",
    "\n",
    "# Visualização\n",
    "fig, ax = plt.subplots()\n",
    "plt.quiver(0, 0, vet[0], vet[1], angles='xy', scale_units='xy', scale=1, color='r', label='Vetor Original')\n",
    "plt.quiver(0, 0, vet_rot[0], vet_rot[1], angles='xy', scale_units='xy', scale=1, color='b', label='Vetor Rotacionado')\n",
    "\n",
    "\n",
    "# Desenha o arco:\n",
    "# 4. Calculate the start and end angles for the arc\n",
    "centro = [0,0]\n",
    "theta1 = np.rad2deg(np.arctan2(vet[1] - centro[1], vet[0] - centro[0]))\n",
    "theta2 = np.rad2deg(np.arctan2(vet_rot[1] - centro[1], vet_rot[0] - centro[0]))\n",
    "angle_arc = Arc(centro, 2, 2, angle=ang_rad, theta1=theta1, theta2=theta2, color='black', linewidth=2)\n",
    "ax.add_patch(angle_arc)\n",
    "\n",
    "plt.text(0.5, 0.5, f'{ang:.2f}°', color='green', fontsize=12)\n",
    "plt.grid()\n",
    "plt.xlim(-5, 5)\n",
    "plt.ylim(-5, 5)\n",
    "plt.axhline(0, color='black',linewidth=0.5, ls='--')\n",
    "plt.axvline(0, color='black',linewidth=0.5, ls='--')\n",
    "plt.gca().set_aspect('equal', adjustable='box')\n",
    "plt.legend()"
   ]
  },
  {
   "cell_type": "markdown",
   "id": "c33afd80",
   "metadata": {},
   "source": [
    "Matriz reflexão:\n",
    "$$\n",
    "\\begin{bmatrix}\n",
    "\\cos(2\\theta) & \\sin(2\\theta) \\\\\n",
    "\\sin(2\\theta) & -\\cos(2\\theta)\n",
    "\\end{bmatrix}\n",
    "$$"
   ]
  },
  {
   "cell_type": "code",
   "execution_count": 25,
   "id": "fd786138",
   "metadata": {},
   "outputs": [
    {
     "name": "stdout",
     "output_type": "stream",
     "text": [
      "[-1.0000000e+00  1.2246468e-16]\n"
     ]
    },
    {
     "data": {
      "text/plain": [
       "<matplotlib.legend.Legend at 0x1c59bca4410>"
      ]
     },
     "execution_count": 25,
     "metadata": {},
     "output_type": "execute_result"
    },
    {
     "data": {
      "image/png": "[encoded data removed]",
      "text/plain": [
       "<Figure size 640x480 with 1 Axes>"
      ]
     },
     "metadata": {},
     "output_type": "display_data"
    }
   ],
   "source": [
    "def matriz_reflexao(angulo, rad = False):\n",
    "    if not rad:\n",
    "        angulo = np.deg2rad(angulo)\n",
    "    angulo *= 2\n",
    "    return np.array([\n",
    "        [np.cos(angulo), np.sin(angulo)],\n",
    "        [np.sin(angulo), -np.cos(angulo)]\n",
    "    ])\n",
    "\n",
    "\n",
    "def get_linha_reflexao(angulo, xlim = [-5,5], rad=False):\n",
    "    if not rad:\n",
    "        angulo = np.radians(angulo)\n",
    "    m = np.tan(angulo)\n",
    "    b = 0\n",
    "    x = np.array(xlim)\n",
    "    y = m * x + b\n",
    "    return x, y\n",
    "\n",
    "angulo_reflexao = 90\n",
    "vet = np.array([1,0])\n",
    "M_reflexo = matriz_reflexao(angulo_reflexao)\n",
    "vet_reflexo = M_reflexo @ vet\n",
    "\n",
    "print(vet_reflexo)\n",
    "# Visualização\n",
    "fig, ax = plt.subplots()\n",
    "plt.quiver(0, 0, vet[0], vet[1], angles='xy', scale_units='xy', scale=1, color='r', label='Vetor Original')\n",
    "plt.quiver(0, 0, vet_reflexo[0], vet_reflexo[1], angles='xy', scale_units='xy', scale=1, color='b', label='Vetor Refletido')\n",
    "plt.plot(*get_linha_reflexao(angulo_reflexao), color='orange', lw=2, label='Linha de Reflexão')\n",
    "\n",
    "plt.grid()\n",
    "plt.xlim(-5, 5)\n",
    "plt.ylim(-5, 5)\n",
    "plt.axhline(0, color='black',linewidth=0.5, ls='--')\n",
    "plt.axvline(0, color='black',linewidth=0.5, ls='--')\n",
    "plt.gca().set_aspect('equal', adjustable='box')\n",
    "plt.legend()"
   ]
  },
  {
   "cell_type": "markdown",
   "id": "8c564a1b",
   "metadata": {},
   "source": [
    "## Exercício:\n",
    "\n",
    "Projeção em um vetor é uma operação linear (verifique). Crie a matriz de projeção em um vetor qualquer.\n",
    "\n",
    "M(u)@ v = Proj_u(v)\n",
    "\n",
    "$$ u = (u_1, u_2), \n",
    "v = (v_1, v_2)$$\n",
    "\n",
    "$$\n",
    "\\begin{bmatrix}\n",
    "m_{11} & m_{12} \\\\\n",
    "m_{21} & m_{22}\n",
    "\\end{bmatrix}\n",
    "\\begin{bmatrix}\n",
    "v_1 \\\\\n",
    "v_2\n",
    "\\end{bmatrix}\n",
    "= Proj_u(v)\n",
    "$$\n",
    "\n",
    "$$\n",
    "Proj_u(v) = \\frac{<u , v>}{<u , u>} u = \\frac{v^Tu}{u^T u} u\n",
    "$$\n",
    "\n",
    "\n",
    "\n"
   ]
  },
  {
   "cell_type": "code",
   "execution_count": null,
   "id": "db9757d0",
   "metadata": {},
   "outputs": [
    {
     "name": "stdout",
     "output_type": "stream",
     "text": [
      "Matriz de Projeção\n",
      "[[0.64 0.48]\n",
      " [0.48 0.36]]\n"
     ]
    },
    {
     "data": {
      "text/plain": [
       "<matplotlib.legend.Legend at 0x1c59c397610>"
      ]
     },
     "execution_count": 31,
     "metadata": {},
     "output_type": "execute_result"
    },
    {
     "data": {
      "image/png": "[encoded data removed]",
      "text/plain": [
       "<Figure size 640x480 with 1 Axes>"
      ]
     },
     "metadata": {},
     "output_type": "display_data"
    }
   ],
   "source": [
    "def get_proj_mat(u):\n",
    "    proj = np.array([\n",
    "        [u[0]**2, u[0]*u[1] ],\n",
    "        [u[0]*u[1], u[1]**2]\n",
    "    ])\n",
    "    \n",
    "    proj /= np.dot(u,u)\n",
    "    return proj\n",
    "\n",
    "def get_proj_mat(u):\n",
    "    proj = np.outer(u,u) / np.dot(u,u)\n",
    "\n",
    "u = np.array([4.0, 3.0])\n",
    "M_proj = get_proj_mat(u)\n",
    "print('Matriz de Projeção')\n",
    "print(M_proj)\n",
    "\n",
    "vet = np.array([1, 2])\n",
    "vet_proj = M_proj @ vet\n",
    "\n",
    "\n",
    "# Visualização\n",
    "fig, ax = plt.subplots()\n",
    "plt.quiver(0, 0, vet[0], vet[1], angles='xy', scale_units='xy', scale=1, color='r', label='Vetor v')\n",
    "plt.quiver(0, 0, u[0], u[1], angles='xy', scale_units='xy', scale=1, color='orange', label='Vetor u')\n",
    "plt.quiver(0, 0, vet_proj[0], vet_proj[1], angles='xy', scale_units='xy', scale=1, color='b', label='Vetor Projetado')\n",
    "\n",
    "plt.plot([vet[0], vet_proj[0]], [vet[1], vet_proj[1]], color='green', ls='--', label='Componente Perpendicular')\n",
    "\n",
    "plt.grid()\n",
    "plt.xlim(-5, 5)\n",
    "plt.ylim(-5, 5)\n",
    "plt.axhline(0, color='black',linewidth=0.5, ls='--')\n",
    "plt.axvline(0, color='black',linewidth=0.5, ls='--')\n",
    "plt.gca().set_aspect('equal', adjustable='box')\n",
    "plt.legend()"
   ]
  }
 ],
 "metadata": {
  "kernelspec": {
   "display_name": "linalg_env",
   "language": "python",
   "name": "python3"
  },
  "language_info": {
   "codemirror_mode": {
    "name": "ipython",
    "version": 3
   },
   "file_extension": ".py",
   "mimetype": "text/x-python",
   "name": "python",
   "nbconvert_exporter": "python",
   "pygments_lexer": "ipython3",
   "version": "3.13.5"
  }
 },
 "nbformat": 4,
 "nbformat_minor": 5
}
