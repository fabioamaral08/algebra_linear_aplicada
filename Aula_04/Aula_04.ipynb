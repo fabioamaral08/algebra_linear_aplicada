{
 "cells": [
  {
   "cell_type": "code",
   "execution_count": 1,
   "id": "0fc6275a",
   "metadata": {},
   "outputs": [],
   "source": [
    "import numpy as np"
   ]
  },
  {
   "cell_type": "markdown",
   "id": "b5188df3",
   "metadata": {},
   "source": [
    "# Teste se uma função é linear\n",
    "\n",
    "### Pseudo código:\n",
    "\n",
    "*Entrada*: Função f, X, Y, alpha, beta\n",
    "\n",
    "*Saída*: True ou False\n",
    "\n",
    "1- valor_1 = f(alpha * X + beta * Y)\n",
    "\n",
    "2- valor_2 = alpha * f(X) + beta * f(Y)\n",
    "\n",
    "3- retorne valor_1 == valor_2"
   ]
  },
  {
   "cell_type": "code",
   "execution_count": 13,
   "id": "a5e30776",
   "metadata": {},
   "outputs": [],
   "source": [
    "# exemplo:\n",
    "def test_linear(f,x,y,a,b):\n",
    "    valor_1 = f(a*x + b*y)\n",
    "    valor_2 = a*f(x) + b*f(y)\n",
    "    return np.allclose(valor_1, valor_2)"
   ]
  },
  {
   "cell_type": "code",
   "execution_count": 23,
   "id": "7198e651",
   "metadata": {},
   "outputs": [
    {
     "name": "stdout",
     "output_type": "stream",
     "text": [
      "f é linear? True\n"
     ]
    }
   ],
   "source": [
    "# Teste na função avg(x)\n",
    "# f = lambda x: np.mean(x)\n",
    "f = np.mean\n",
    "shape_input = 5\n",
    "x = np.random.rand(shape_input)\n",
    "y = np.random.rand(shape_input)\n",
    "a = 0.2\n",
    "b = 0.8\n",
    "\n",
    "is_linear = test_linear(f, x, y, a, b)\n",
    "print(f\"f é linear? {is_linear}\")"
   ]
  },
  {
   "cell_type": "code",
   "execution_count": 9,
   "id": "0155deb8",
   "metadata": {},
   "outputs": [
    {
     "name": "stdout",
     "output_type": "stream",
     "text": [
      "[0.09773557 0.66280927 0.27794372 0.55790003 0.79969744]\n",
      "[0.93085382 0.96485724 0.77875826 0.90470429 0.47761425]\n"
     ]
    }
   ],
   "source": [
    "print(x)\n",
    "print(y)"
   ]
  },
  {
   "cell_type": "code",
   "execution_count": 38,
   "id": "67630baa",
   "metadata": {},
   "outputs": [
    {
     "name": "stdout",
     "output_type": "stream",
     "text": [
      "f não é linear! Teste falhou para x=[0.45828524 0.96561145 0.86135203 0.61186932 0.11155315 0.40580778\n",
      " 0.39592326 0.74715446 0.74713182 0.57716246], y=[0.18643393 0.45603562 0.97570027 0.69461159 0.20446471 0.56205719\n",
      " 0.78657345 0.51384722 0.53476025 0.86740674], a=0.4346013566477672, b=0.9236439635709316\n"
     ]
    },
    {
     "data": {
      "text/plain": [
       "False"
      ]
     },
     "execution_count": 38,
     "metadata": {},
     "output_type": "execute_result"
    }
   ],
   "source": [
    "# exercicio: Modifique a função para testar várias entradas \n",
    "# x,y,a e b diferentes\n",
    "# teste para f(x) = max(x) - min(x)\n",
    "\n",
    "def test_linear_mult(f, n, num_tests=100):\n",
    "    for i in range(num_tests):\n",
    "        x = np.random.rand(n)\n",
    "        y = np.random.rand(n)\n",
    "        a = np.random.rand()\n",
    "        b = np.random.rand()\n",
    "        if not test_linear(f, x, y, a, b):\n",
    "            print(f\"f não é linear! Teste falhou para x={x}, y={y}, a={a}, b={b}\")\n",
    "            return False\n",
    "    return True\n",
    "\n",
    "min_max = lambda x: np.max(x) - np.min(x)\n",
    "test_linear_mult(min_max, 10, num_tests=100)"
   ]
  },
  {
   "cell_type": "markdown",
   "id": "d79c9355",
   "metadata": {},
   "source": [
    "# Descobrir vetor a da função produto interno\n",
    "\n",
    "$a_i = f(e_i)$\n",
    "\n",
    "$a = [f(e_1), f(e_2),..., f(e_n)]$"
   ]
  },
  {
   "cell_type": "code",
   "execution_count": 27,
   "id": "f73b612a",
   "metadata": {},
   "outputs": [],
   "source": [
    "def ret_vet_a(f, n):\n",
    "    base_canoninca = np.eye(n)\n",
    "    a = np.array([f(base_canoninca[i]) for i in range(n)])\n",
    "    return a\n",
    "\n",
    "f_prod = lambda x,a: np.dot(x,a)"
   ]
  }
 ],
 "metadata": {
  "kernelspec": {
   "display_name": "linalg_env",
   "language": "python",
   "name": "python3"
  },
  "language_info": {
   "codemirror_mode": {
    "name": "ipython",
    "version": 3
   },
   "file_extension": ".py",
   "mimetype": "text/x-python",
   "name": "python",
   "nbconvert_exporter": "python",
   "pygments_lexer": "ipython3",
   "version": "3.13.5"
  }
 },
 "nbformat": 4,
 "nbformat_minor": 5
}
