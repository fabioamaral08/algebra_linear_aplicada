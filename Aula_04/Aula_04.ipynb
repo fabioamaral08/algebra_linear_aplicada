{
 "cells": [
  {
   "cell_type": "code",
   "execution_count": 1,
   "id": "0fc6275a",
   "metadata": {},
   "outputs": [],
   "source": [
    "import numpy as np"
   ]
  },
  {
   "cell_type": "markdown",
   "id": "b5188df3",
   "metadata": {},
   "source": [
    "# Teste se uma função é linear\n",
    "\n",
    "### Pseudo código:\n",
    "\n",
    "*Entrada*: Função f, X, Y, alpha, beta\n",
    "\n",
    "*Saída*: True ou False\n",
    "\n",
    "1- valor_1 = f(alpha * X + beta * Y)\n",
    "\n",
    "2- valor_2 = alpha * f(X) + beta * f(Y)\n",
    "\n",
    "3- retorne valor_1 == valor_2"
   ]
  },
  {
   "cell_type": "code",
   "execution_count": null,
   "id": "a5e30776",
   "metadata": {},
   "outputs": [],
   "source": [
    "# exemplo:\n",
    "def test_linear(f,x,y,a,b):\n",
    "    pass"
   ]
  },
  {
   "cell_type": "code",
   "execution_count": null,
   "id": "7198e651",
   "metadata": {},
   "outputs": [],
   "source": [
    "# Teste na função avg(x)\n",
    "\n",
    "f = np.mean\n",
    "x = np.random.rand(5)\n",
    "y = np.random.rand(5)\n",
    "a = 0.2\n",
    "b = 0.8\n",
    "\n",
    "is_linear = test_linear(f, x, y, a, b)"
   ]
  },
  {
   "cell_type": "code",
   "execution_count": null,
   "id": "67630baa",
   "metadata": {},
   "outputs": [],
   "source": [
    "#exercicio: Modifique a função para testar várias entradas x,y,a e b diferentes\n",
    "\n",
    "def test_linear_mult(f, shape_input, num_tests=100):\n",
    "    pass"
   ]
  },
  {
   "cell_type": "code",
   "execution_count": null,
   "id": "d79c9355",
   "metadata": {},
   "outputs": [],
   "source": []
  }
 ],
 "metadata": {
  "kernelspec": {
   "display_name": "libselection",
   "language": "python",
   "name": "python3"
  },
  "language_info": {
   "codemirror_mode": {
    "name": "ipython",
    "version": 3
   },
   "file_extension": ".py",
   "mimetype": "text/x-python",
   "name": "python",
   "nbconvert_exporter": "python",
   "pygments_lexer": "ipython3",
   "version": "3.10.16"
  }
 },
 "nbformat": 4,
 "nbformat_minor": 5
}
