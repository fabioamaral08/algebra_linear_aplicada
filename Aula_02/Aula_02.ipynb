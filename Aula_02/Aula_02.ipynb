{
 "cells": [
  {
   "cell_type": "code",
   "execution_count": 14,
   "id": "4ca9f1b2",
   "metadata": {},
   "outputs": [],
   "source": [
    "import numpy as np\n",
    "from sklearn.feature_extraction.text import CountVectorizer\n",
    "from sklearn.metrics.pairwise import cosine_similarity\n",
    "import glob"
   ]
  },
  {
   "cell_type": "markdown",
   "id": "27909472",
   "metadata": {},
   "source": [
    "# Problema 1: Portifolio de Investimentos\n",
    "\n",
    "## Dados:\n",
    " Série histórica de retornos de investimentos ao longo de 12 meses"
   ]
  },
  {
   "cell_type": "code",
   "execution_count": 3,
   "id": "cf834f50",
   "metadata": {},
   "outputs": [
    {
     "name": "stdout",
     "output_type": "stream",
     "text": [
      "\n",
      "============================================================\n",
      "ANÁLISE DE RISCO DE PORTFOLIO DE INVESTIMENTOS\n",
      "============================================================\n",
      "Retornos mensais (%) dos ativos:\n",
      "Mês      Ação A    Ação B    Ação C  Título D   Fundo E\n",
      "1           2.1      -1.5       3.2       0.8       1.2\n",
      "2           1.8       2.3      -0.5       0.9       1.1\n",
      "3          -0.5       1.8       2.1       0.7       0.9\n",
      "4           3.2      -2.1       1.8       0.8       1.3\n",
      "5           0.9       3.5      -1.2       0.6       1.0\n",
      "6           2.5       0.8       2.8       0.9       1.4\n",
      "7          -1.2       2.9       0.5       0.7       0.8\n",
      "8           1.6      -0.8       3.1       0.8       1.2\n",
      "9           2.8       1.5      -0.8       0.6       1.1\n",
      "10          0.3       2.7       1.9       0.9       1.3\n",
      "11          1.9      -1.3       2.4       0.7       0.9\n",
      "12          2.2       1.1       0.7       0.8       1.2\n"
     ]
    }
   ],
   "source": [
    "\"\"\"\n",
    "Análise de Risco de Portfolio de Investimentos\n",
    "\n",
    "Use normas e desvio padrão para analisar risco e retorno de investimentos.\n",
    "\"\"\"\n",
    "print(\"\\n\" + \"=\" * 60)\n",
    "print(\"ANÁLISE DE RISCO DE PORTFOLIO DE INVESTIMENTOS\")\n",
    "print(\"=\" * 60)\n",
    "\n",
    "# Retornos mensais (%) de 5 ativos durante 12 meses\n",
    "ativos = ['Ação A', 'Ação B', 'Ação C', 'Título D', 'Fundo E']\n",
    "\n",
    "retornos = np.array([\n",
    "    [2.1, -1.5, 3.2, 0.8, 1.2],   # Mês 1\n",
    "    [1.8, 2.3, -0.5, 0.9, 1.1],   # Mês 2\n",
    "    [-0.5, 1.8, 2.1, 0.7, 0.9],   # Mês 3\n",
    "    [3.2, -2.1, 1.8, 0.8, 1.3],   # Mês 4\n",
    "    [0.9, 3.5, -1.2, 0.6, 1.0],   # Mês 5\n",
    "    [2.5, 0.8, 2.8, 0.9, 1.4],    # Mês 6\n",
    "    [-1.2, 2.9, 0.5, 0.7, 0.8],   # Mês 7\n",
    "    [1.6, -0.8, 3.1, 0.8, 1.2],   # Mês 8\n",
    "    [2.8, 1.5, -0.8, 0.6, 1.1],   # Mês 9\n",
    "    [0.3, 2.7, 1.9, 0.9, 1.3],    # Mês 10\n",
    "    [1.9, -1.3, 2.4, 0.7, 0.9],   # Mês 11\n",
    "    [2.2, 1.1, 0.7, 0.8, 1.2]     # Mês 12\n",
    "])\n",
    "\n",
    "print(\"Retornos mensais (%) dos ativos:\")\n",
    "print(f\"{'Mês':<5}\", end=\"\")\n",
    "for ativo in ativos:\n",
    "    print(f\"{ativo:>10}\", end=\"\")\n",
    "print()\n",
    "   \n",
    "for i in range(12):\n",
    "    print(f\"{i+1:<5}\", end=\"\")\n",
    "    for j in range(5):\n",
    "        print(f\"{retornos[i,j]:>10.1f}\", end=\"\")\n",
    "    print()\n"
   ]
  },
  {
   "cell_type": "code",
   "execution_count": 21,
   "id": "1e2900ce",
   "metadata": {},
   "outputs": [
    {
     "name": "stdout",
     "output_type": "stream",
     "text": [
      "\n",
      "a) Análise individual dos ativos:\n",
      "Ativo      Retorno Médio   Risco (Std)  Sharpe Ratio\n"
     ]
    }
   ],
   "source": [
    "# a) Análise de retorno e risco individual\n",
    "print(f\"\\na) Análise individual dos ativos:\")\n",
    "print(f\"{'Ativo':<10} {'Retorno Médio':<15} {'Risco (Std)':<12} {'Sharpe Ratio':<12}\")\n",
    "\n",
    "\n",
    "\n",
    "for i, ativo in enumerate(ativos):\n",
    "    pass\n",
    "    # print(f\"{ativo:<10} {retornos_medios[i]:<15.2f} {riscos[i]:<12.3f} {sharpe_ratios[i]:<12.3f}\")"
   ]
  },
  {
   "cell_type": "markdown",
   "id": "53cd7760",
   "metadata": {},
   "source": [
    "### b) Análise de correlação usando produto interno\n",
    "- Normalizar os retornos (centrar na média)\n",
    "    - retornos_centrados = retornos - retornos_medios\n",
    "\n",
    "- Exercício: Calcular a matriz de correlação usando produto interno\n",
    "    - $ C_{ij} = <v_i, v_j> / (||v_i||\\cdot ||v_j||)$"
   ]
  },
  {
   "cell_type": "code",
   "execution_count": null,
   "id": "94e2fe71",
   "metadata": {},
   "outputs": [],
   "source": [
    "# b)"
   ]
  },
  {
   "cell_type": "code",
   "execution_count": 22,
   "id": "b35a91f7",
   "metadata": {},
   "outputs": [
    {
     "name": "stdout",
     "output_type": "stream",
     "text": [
      "\n",
      "c) Análise de diferentes portfolios:\n",
      "Portfolio    Retorno    Risco      Sharpe    \n"
     ]
    }
   ],
   "source": [
    "# c) Análise de portfolios\n",
    "print(f\"\\nc) Análise de diferentes portfolios:\")\n",
    "\n",
    "# Portfolio 1: Igualmente distribuído\n",
    "pesos1 = np.array([0.2, 0.2, 0.2, 0.2, 0.2])\n",
    "\n",
    "# Portfolio 2: Conservador (mais em títulos)\n",
    "pesos2 = np.array([0.1, 0.1, 0.1, 0.5, 0.2])\n",
    "\n",
    "# Portfolio 3: Agressivo (mais em ações)\n",
    "pesos3 = np.array([0.4, 0.3, 0.3, 0.0, 0.0])\n",
    "\n",
    "portfolios = [pesos1, pesos2, pesos3]\n",
    "nomes_portfolios = ['Equilibrado', 'Conservador', 'Agressivo']\n",
    "\n",
    "print(f\"{'Portfolio':<12} {'Retorno':<10} {'Risco':<10} {'Sharpe':<10}\")\n",
    "\n",
    "for i, (nome, pesos) in enumerate(zip(nomes_portfolios, portfolios)):\n",
    "    pass\n",
    "    # Retorno esperado do portfolio\n",
    "    \n",
    "    # Risco do portfolio (norma dos retornos ponderados centrados)\n",
    "\n",
    "    \n",
    "    # Sharpe ratio\n",
    "    \n",
    "    # print(f\"{nome:<12} {retorno_portfolio:<10.2f} {risco_portfolio:<10.3f} {sharpe_portfolio:<10.3f}\")"
   ]
  },
  {
   "cell_type": "markdown",
   "id": "294cfd10",
   "metadata": {},
   "source": [
    "# Problema 2: Sistema de busca simples\n",
    "\n",
    "## Dados:\n",
    "- Lista de documentos ou páginas\n",
    "- texto de busca"
   ]
  },
  {
   "cell_type": "code",
   "execution_count": 18,
   "id": "aa4e844d",
   "metadata": {},
   "outputs": [
    {
     "name": "stdout",
     "output_type": "stream",
     "text": [
      "\n",
      "Leitura de arquivos de texto:\n",
      "Arquivos encontrados: 5\n",
      "Primeiro arquivo lido:\n",
      "A culinária é a arte de cozinhar,[1] (ver: artes mecânicas) ou seja, o acto de confeccionar alimento...\n"
     ]
    }
   ],
   "source": [
    "# Leitura dos arquivos de texto\n",
    "print(\"\\nLeitura de arquivos de texto:\")\n",
    "doc_dir = \"documentos\"\n",
    "arquivos = glob.glob(f\"{doc_dir}/*.txt\")\n",
    "docs = []\n",
    "file_names = [arquivo.split('/')[-1].replace('.txt', '') for arquivo in arquivos]\n",
    "for arquivo in arquivos:\n",
    "    with open(arquivo, 'r', encoding='utf-8') as f:\n",
    "        docs.append(f.read())\n",
    "\n",
    "# Exemplo de arquivos lidos\n",
    "print(f\"Arquivos encontrados: {len(docs)}\")\n",
    "print(\"Primeiro arquivo lido:\")\n",
    "print(docs[0][:100] + \"...\")  # Exibe os primeiros 100 caracteres do primeiro arquivo"
   ]
  },
  {
   "cell_type": "code",
   "execution_count": 12,
   "id": "6e7fa67a",
   "metadata": {},
   "outputs": [
    {
     "name": "stdout",
     "output_type": "stream",
     "text": [
      "\n",
      "Matriz de características (documentos x termos): (5, 699)\n",
      "Termos encontrados:\n",
      "['10' '11' '12' '13' '14' '15' '16' '17' '18' '19' '1950' '1956' '1963'\n",
      " '20' '2007' '2012' '2016' '2017' '2020' '21']\n"
     ]
    }
   ],
   "source": [
    "# criação do vetor de características\n",
    "stopwords_pt = ['a', 'o', 'e', 'de', 'do', 'da', 'em', 'um', 'para', 'com', 'não', 'uma', 'os', 'no', 'se', 'na', 'por', 'mais', 'as', 'dos', 'como', 'mas', 'foi', 'ao', 'ele', 'das', 'tem', 'à', 'seu', 'sua', 'ou', 'ser', 'quando', 'muito', 'há', 'nos', 'já', 'está', 'eu', 'também', 'só', 'pelo', 'pela', 'até', 'isso', 'ela', 'entre', 'era', 'depois', 'sem', 'mesmo', 'aos', 'ter', 'seus', 'quem', 'nas', 'me', 'esse', 'eles', 'estão', 'você', 'tinha', 'foram', 'essa', 'num', 'nem', 'suas', 'meu', 'às', 'minha', 'têm', 'numa', 'pelos', 'elas', 'havia', 'seja', 'qual', 'será', 'nós', 'tenho', 'lhe', 'deles', 'essas', 'esses', 'pelas', 'este', 'dele', 'tu', 'te', 'vocês', 'vos', 'lhes', 'meus', 'minhas', 'teu', 'tua', 'teus', 'tuas', 'nosso', 'nossa', 'nossos', 'nossas', 'dela', 'delas', 'esta', 'estes', 'estas', 'aquele', 'aquela', 'aqueles', 'aquelas', 'isto', 'aquilo', 'estou', 'está', 'estamos', 'estão', 'estive', 'esteve', 'estivemos', 'estiveram', 'estava', 'estávamos', 'estavam', 'estivera', 'estivéramos', 'esteja', 'estejamos', 'estejam', 'estivesse', 'estivéssemos', 'estivessem', 'estiver', 'estivermos', 'estiverem', 'hei', 'há', 'havemos', 'hão', 'houve', 'houvemos', 'houveram', 'houvera', 'houvéramos', 'haja', 'hajamos', 'hajam', 'houvesse', 'houvéssemos', 'houvessem', 'houver', 'houvermos', 'houverem', 'houverei', 'houverá', 'houveremos', 'houverão', 'houveria', 'houveríamos', 'houveriam', 'sou', 'somos', 'são', 'era', 'éramos', 'eram', 'fui', 'foi', 'fomos', 'foram', 'fora', 'fôramos', 'seja', 'sejamos', 'sejam', 'fosse', 'fôssemos', 'fossem', 'for', 'formos', 'forem', 'serei', 'será', 'seremos', 'serão', 'seria', 'seríamos', 'seriam', 'tenho', 'tem', 'temos', 'tém', 'tinha', 'tínhamos', 'tinham', 'tive', 'teve', 'tivemos', 'tiveram', 'tivera', 'tivéramos', 'tenha', 'tenhamos', 'tenham', 'tivesse', 'tivéssemos', 'tivessem', 'tiver', 'tivermos', 'tiverem', 'terei', 'terá', 'teremos', 'terão', 'teria', 'teríamos', 'teriam']\n",
    "vectorizer = CountVectorizer(stop_words=stopwords_pt)\n",
    "X = vectorizer.fit_transform(docs)\n",
    "\n",
    "# Exibe o tamanho da matriz de características\n",
    "print(f\"\\nMatriz de características (documentos x termos): {X.shape}\")\n",
    "print(\"Termos encontrados:\")\n",
    "print(vectorizer.get_feature_names_out()[:20])  # Exibe os primeiros 20 termos"
   ]
  },
  {
   "cell_type": "code",
   "execution_count": 23,
   "id": "71f14ac8",
   "metadata": {},
   "outputs": [
    {
     "name": "stdout",
     "output_type": "stream",
     "text": [
      "\n",
      "Exemplo de busca: Buscar documento com maior semelhança de coseno\n",
      "Documento mais similar encontrado: documentos\\culinaria\n",
      "Conteúdo do documento mais similar:\n",
      "A culinária é a arte de cozinhar,[1] (ver: artes mecânicas) ou seja, o acto de confeccionar alimentos. Ela evoluiu ao longo da história dos povos para tornar-se parte da cultura de cada povo. Está inv...\n"
     ]
    }
   ],
   "source": [
    "# exemplo de busca: Buscar documento com maior semelhança de coseno\n",
    "print(\"\\nExemplo de busca: Buscar documento com maior semelhança de coseno\")\n",
    "texto_busca = \"comida mais popular no Brasil\"\n",
    "X_busca = vectorizer.transform([texto_busca])\n",
    "\n",
    "similaridades = cosine_similarity(X_busca, X)\n",
    "indice_mais_similar = np.argmax(similaridades)\n",
    "\n",
    "print(f\"Documento mais similar encontrado: {file_names[indice_mais_similar]}\")\n",
    "print(f\"Conteúdo do documento mais similar:\\n{docs[indice_mais_similar][:200]}...\")  # Exibe os primeiros 200 caracteres\n"
   ]
  },
  {
   "cell_type": "code",
   "execution_count": 20,
   "id": "139dd577",
   "metadata": {},
   "outputs": [],
   "source": [
    "# Exercicio: mude o critério de busca para encontrar documentos que estejam mais proximos pela distancia euclidiana"
   ]
  }
 ],
 "metadata": {
  "kernelspec": {
   "display_name": "linalg_env",
   "language": "python",
   "name": "python3"
  },
  "language_info": {
   "codemirror_mode": {
    "name": "ipython",
    "version": 3
   },
   "file_extension": ".py",
   "mimetype": "text/x-python",
   "name": "python",
   "nbconvert_exporter": "python",
   "pygments_lexer": "ipython3",
   "version": "3.13.5"
  }
 },
 "nbformat": 4,
 "nbformat_minor": 5
}
